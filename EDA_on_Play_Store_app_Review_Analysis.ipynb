{
  "cells": [
    {
      "cell_type": "markdown",
      "metadata": {
        "id": "view-in-github",
        "colab_type": "text"
      },
      "source": [
        "<a href=\"https://colab.research.google.com/github/sachinwandale1994/Capstone-project/blob/main/EDA_on_Play_Store_app_Review_Analysis.ipynb\" target=\"_parent\"><img src=\"https://colab.research.google.com/assets/colab-badge.svg\" alt=\"Open In Colab\"/></a>"
      ]
    },
    {
      "cell_type": "markdown",
      "metadata": {
        "id": "vncDsAP0Gaoa"
      },
      "source": [
        "# **Project Name**    - **Play Store App Review Analysis**\n",
        "\n",
        "<img src=\"https://drive.google.com/uc?id=1kj5p5-n7GLkgkJe-if6Sd_Z4MFZf2uPT\" alt=\"drawing\" width=\"400\"/>\n"
      ]
    },
    {
      "cell_type": "markdown",
      "metadata": {
        "id": "beRrZCGUAJYm"
      },
      "source": [
        "##### **Project Type**    - EDA\n",
        "##### **Contribution**    - Individual\n",
        "##### **Team Member 1 -** Sachin Wandale"
      ]
    },
    {
      "cell_type": "markdown",
      "metadata": {
        "id": "FJNUwmbgGyua"
      },
      "source": [
        "# **Project Summary -**"
      ]
    },
    {
      "cell_type": "markdown",
      "source": [
        "\n",
        "The objective of this project is to perform Exploratory Data Analysis (EDA) on Play Store app reviews to gain insights into user opinions, sentiments, and preferences.\n",
        "By analyzing a vast dataset of app reviews, we aim to uncover patterns, trends, and actionable information that can be useful for app developers, marketers, and decision-makers.\n",
        "\n",
        "The project will involve the following steps:\n",
        "\n",
        "1. Data Collection: Gathering a substantial volume of Play Store app reviews, including text reviews, ratings, app metadata,\n",
        "   and other relevant information.\n",
        "\n",
        "2. Data Cleaning and Preprocessing: Performing necessary data cleaning and preprocessing tasks to ensure the data is in a suitable format for analysis.\n",
        "   This may involve removing duplicates, handling missing values, standardizing text, and converting ratings into a consistent numerical scale.\n",
        "\n",
        "3. Exploratory Data Analysis: Conducting a comprehensive exploratory analysis to understand the characteristics of the dataset.\n",
        "   This includes analyzing distributions, correlations, and statistical measures of the review ratings, app categories, review lengths and other relevant factors.\n",
        "\n",
        "4. Visualizations and Insights: Presenting the findings of the EDA through meaningful visualizations such as histograms, bar plots, etc.\n",
        "   These visual representations will help identify popular app categories, frequently mentioned features, and any other noteworthy patterns.\n",
        "\n",
        "By conducting this EDA on Play Store app reviews, this project aims to provide valuable insights that can drive decision-making processes and\n",
        "support the development of user-centric apps. The analysis will enable stakeholders to make informed decisions regarding app enhancements, feature prioritization,\n",
        "marketing strategies, and overall app performance improvements.\n"
      ],
      "metadata": {
        "id": "QoaLttNJLDgo"
      }
    },
    {
      "cell_type": "markdown",
      "metadata": {
        "id": "F6v_1wHtG2nS"
      },
      "source": [
        "Write the summary here within 500-600 words."
      ]
    },
    {
      "cell_type": "markdown",
      "metadata": {
        "id": "w6K7xa23Elo4"
      },
      "source": [
        "# **GitHub Link -**"
      ]
    },
    {
      "cell_type": "markdown",
      "metadata": {
        "id": "h1o69JH3Eqqn"
      },
      "source": [
        "Provide your GitHub Link here.\n",
        "\n",
        "https://github.com/sachinwandale1994/Capstone-project/blob/main/EDA_on_Play_Store_app_Review_Analysis.ipynb"
      ]
    },
    {
      "cell_type": "markdown",
      "metadata": {
        "id": "yQaldy8SH6Dl"
      },
      "source": [
        "# **Problem Statement**\n"
      ]
    },
    {
      "cell_type": "markdown",
      "metadata": {
        "id": "DpeJGUA3kjGy"
      },
      "source": [
        "**Write Problem Statement Here.**\n",
        "\n",
        "Question 1\n",
        "What is the relationship between application rating and installation?\n",
        "\n",
        "Question 2\n",
        "What is the rating of an an application with given number of reviews and installation ?\n",
        "1. How can we identify the most common issues reported by users in Play Store app reviews?\n",
        "2. What are the key factors that influence user ratings and reviews of apps on the Play Store?\n",
        "3. Is there a correlation between the length of app reviews and the overall rating given by users on the Play Store?\n",
        "4. Are there any specific keywords or phrases in app reviews that indicate user satisfaction or dissatisfaction?\n",
        "5. How can we detect and analyze spam or fake reviews in the Play Store app review dataset?\n",
        "6. What are the main reasons behind users uninstalling apps, as indicated by their reviews on the Play Store?\n",
        "7. Can we identify patterns or trends in app reviews based on factors such as app category, release date, or developer reputation?\n",
        "8. How do app ratings and reviews vary across different versions of the same app on the Play Store?\n",
        "9. Are there any specific features or functionalities that consistently receive positive or negative feedback from users in Play Store app reviews?\n",
        "10. Can sentiment analysis techniques be used to classify app reviews into positive, negative, or neutral categories, and how accurate are these classifications?\n",
        "11. Are there any differences in user ratings and reviews based on the geographic location of the users, as indicated by their Play Store profiles?\n",
        "12. How do the sentiments expressed in app reviews change over time, and can we identify any external events or app updates that correlate with significant changes in sentiment?\n"
      ]
    },
    {
      "cell_type": "markdown",
      "source": [],
      "metadata": {
        "id": "Zw8t5RuBVd4n"
      }
    },
    {
      "cell_type": "markdown",
      "metadata": {
        "id": "PH-0ReGfmX4f"
      },
      "source": [
        "#### **Define Your Business Objective?**"
      ]
    },
    {
      "cell_type": "markdown",
      "metadata": {
        "id": "PhDvGCAqmjP1"
      },
      "source": [
        "Answer Here.\n",
        "\n",
        "To analyze the Google Play Store Apps by implementing Data Science Process\n",
        "\n",
        "To determine trends and patterns in Google Play Store Apps"
      ]
    },
    {
      "cell_type": "markdown",
      "metadata": {
        "id": "mDgbUHAGgjLW"
      },
      "source": [
        "# **General Guidelines** : -"
      ]
    },
    {
      "cell_type": "markdown",
      "metadata": {
        "id": "ZrxVaUj-hHfC"
      },
      "source": [
        "1.   Well-structured, formatted, and commented code is required.\n",
        "2.   Exception Handling, Production Grade Code & Deployment Ready Code will be a plus. Those students will be awarded some additional credits.\n",
        "\n",
        "     The additional credits will have advantages over other students during Star Student selection.\n",
        "\n",
        "             [ Note: - Deployment Ready Code is defined as, the whole .ipynb notebook should be executable in one go\n",
        "                       without a single error logged. ]\n",
        "\n",
        "3.   Each and every logic should have proper comments.\n",
        "4. You may add as many number of charts you want. Make Sure for each and every chart the following format should be answered.\n",
        "\n",
        "\n",
        "```\n",
        "# Chart visualization code\n",
        "```\n",
        "\n",
        "\n",
        "*   Why did you pick the specific chart?\n",
        "*   What is/are the insight(s) found from the chart?\n",
        "* Will the gained insights help creating a positive business impact?\n",
        "Are there any insights that lead to negative growth? Justify with specific reason.\n",
        "\n",
        "5. You have to create at least 20 logical & meaningful charts having important insights.\n",
        "\n",
        "\n",
        "[ Hints : - Do the Vizualization in  a structured way while following \"UBM\" Rule.\n",
        "\n",
        "U - Univariate Analysis,\n",
        "\n",
        "B - Bivariate Analysis (Numerical - Categorical, Numerical - Numerical, Categorical - Categorical)\n",
        "\n",
        "M - Multivariate Analysis\n",
        " ]\n",
        "\n",
        "\n",
        "\n"
      ]
    },
    {
      "cell_type": "markdown",
      "metadata": {
        "id": "O_i_v8NEhb9l"
      },
      "source": [
        "# ***Let's Begin !***"
      ]
    },
    {
      "cell_type": "markdown",
      "metadata": {
        "id": "HhfV-JJviCcP"
      },
      "source": [
        "## ***1. Know Your Data***"
      ]
    },
    {
      "cell_type": "markdown",
      "metadata": {
        "id": "Y3lxredqlCYt"
      },
      "source": [
        "### Import Libraries"
      ]
    },
    {
      "cell_type": "code",
      "execution_count": 1,
      "metadata": {
        "id": "M8Vqi-pPk-HR"
      },
      "outputs": [],
      "source": [
        "# Import Libraries\n",
        "import numpy as np\n",
        "import pandas as pd\n",
        "import seaborn as sns\n",
        "import matplotlib.pyplot as plt\n",
        "%matplotlib inline\n",
        "import warnings\n",
        "warnings.filterwarnings('ignore')"
      ]
    },
    {
      "cell_type": "markdown",
      "metadata": {
        "id": "3RnN4peoiCZX"
      },
      "source": [
        "### Dataset Loading"
      ]
    },
    {
      "cell_type": "code",
      "execution_count": 2,
      "metadata": {
        "id": "4CkvbW_SlZ_R",
        "colab": {
          "base_uri": "https://localhost:8080/"
        },
        "outputId": "29c9fa86-4c0f-478b-9e09-aad70bbd82c3"
      },
      "outputs": [
        {
          "output_type": "stream",
          "name": "stdout",
          "text": [
            "Mounted at /content/drive\n"
          ]
        }
      ],
      "source": [
        "# Load Dataset\n",
        "from google.colab import drive\n",
        "drive.mount('/content/drive')   # Google drive mounting"
      ]
    },
    {
      "cell_type": "code",
      "execution_count": 3,
      "metadata": {
        "id": "52MX8DFOEcHI"
      },
      "outputs": [],
      "source": [
        "# load first Dataset\n",
        "df_data = pd.read_csv('/content/drive/MyDrive/Colab Notebooks/Python for Data Science /Capstone Project/Python/Play Store app Review/Play Store Data.csv')"
      ]
    },
    {
      "cell_type": "code",
      "execution_count": 4,
      "metadata": {
        "id": "-CIt0tFWExxD"
      },
      "outputs": [],
      "source": [
        "# load Second Dataset\n",
        "df_user_review = pd.read_csv('/content/drive/MyDrive/Colab Notebooks/Python for Data Science /Capstone Project/Python/Play Store app Review/User Reviews.csv')"
      ]
    },
    {
      "cell_type": "markdown",
      "metadata": {
        "id": "x71ZqKXriCWQ"
      },
      "source": [
        "### Dataset First View"
      ]
    },
    {
      "cell_type": "code",
      "execution_count": 5,
      "metadata": {
        "id": "LWNFOSvLl09H",
        "colab": {
          "base_uri": "https://localhost:8080/",
          "height": 441
        },
        "outputId": "1d7eb655-983f-4ae6-abc0-ebc75fbd4472"
      },
      "outputs": [
        {
          "output_type": "execute_result",
          "data": {
            "text/plain": [
              "                                                 App        Category  Rating  \\\n",
              "0     Photo Editor & Candy Camera & Grid & ScrapBook  ART_AND_DESIGN     4.1   \n",
              "1                                Coloring book moana  ART_AND_DESIGN     3.9   \n",
              "2  U Launcher Lite – FREE Live Cool Themes, Hide ...  ART_AND_DESIGN     4.7   \n",
              "3                              Sketch - Draw & Paint  ART_AND_DESIGN     4.5   \n",
              "4              Pixel Draw - Number Art Coloring Book  ART_AND_DESIGN     4.3   \n",
              "\n",
              "  Reviews  Size     Installs  Type Price Content Rating  \\\n",
              "0     159   19M      10,000+  Free     0       Everyone   \n",
              "1     967   14M     500,000+  Free     0       Everyone   \n",
              "2   87510  8.7M   5,000,000+  Free     0       Everyone   \n",
              "3  215644   25M  50,000,000+  Free     0           Teen   \n",
              "4     967  2.8M     100,000+  Free     0       Everyone   \n",
              "\n",
              "                      Genres      Last Updated         Current Ver  \\\n",
              "0               Art & Design   January 7, 2018               1.0.0   \n",
              "1  Art & Design;Pretend Play  January 15, 2018               2.0.0   \n",
              "2               Art & Design    August 1, 2018               1.2.4   \n",
              "3               Art & Design      June 8, 2018  Varies with device   \n",
              "4    Art & Design;Creativity     June 20, 2018                 1.1   \n",
              "\n",
              "    Android Ver  \n",
              "0  4.0.3 and up  \n",
              "1  4.0.3 and up  \n",
              "2  4.0.3 and up  \n",
              "3    4.2 and up  \n",
              "4    4.4 and up  "
            ],
            "text/html": [
              "\n",
              "  <div id=\"df-073c9c0b-3712-44fb-bf1a-0aae39671428\">\n",
              "    <div class=\"colab-df-container\">\n",
              "      <div>\n",
              "<style scoped>\n",
              "    .dataframe tbody tr th:only-of-type {\n",
              "        vertical-align: middle;\n",
              "    }\n",
              "\n",
              "    .dataframe tbody tr th {\n",
              "        vertical-align: top;\n",
              "    }\n",
              "\n",
              "    .dataframe thead th {\n",
              "        text-align: right;\n",
              "    }\n",
              "</style>\n",
              "<table border=\"1\" class=\"dataframe\">\n",
              "  <thead>\n",
              "    <tr style=\"text-align: right;\">\n",
              "      <th></th>\n",
              "      <th>App</th>\n",
              "      <th>Category</th>\n",
              "      <th>Rating</th>\n",
              "      <th>Reviews</th>\n",
              "      <th>Size</th>\n",
              "      <th>Installs</th>\n",
              "      <th>Type</th>\n",
              "      <th>Price</th>\n",
              "      <th>Content Rating</th>\n",
              "      <th>Genres</th>\n",
              "      <th>Last Updated</th>\n",
              "      <th>Current Ver</th>\n",
              "      <th>Android Ver</th>\n",
              "    </tr>\n",
              "  </thead>\n",
              "  <tbody>\n",
              "    <tr>\n",
              "      <th>0</th>\n",
              "      <td>Photo Editor &amp; Candy Camera &amp; Grid &amp; ScrapBook</td>\n",
              "      <td>ART_AND_DESIGN</td>\n",
              "      <td>4.1</td>\n",
              "      <td>159</td>\n",
              "      <td>19M</td>\n",
              "      <td>10,000+</td>\n",
              "      <td>Free</td>\n",
              "      <td>0</td>\n",
              "      <td>Everyone</td>\n",
              "      <td>Art &amp; Design</td>\n",
              "      <td>January 7, 2018</td>\n",
              "      <td>1.0.0</td>\n",
              "      <td>4.0.3 and up</td>\n",
              "    </tr>\n",
              "    <tr>\n",
              "      <th>1</th>\n",
              "      <td>Coloring book moana</td>\n",
              "      <td>ART_AND_DESIGN</td>\n",
              "      <td>3.9</td>\n",
              "      <td>967</td>\n",
              "      <td>14M</td>\n",
              "      <td>500,000+</td>\n",
              "      <td>Free</td>\n",
              "      <td>0</td>\n",
              "      <td>Everyone</td>\n",
              "      <td>Art &amp; Design;Pretend Play</td>\n",
              "      <td>January 15, 2018</td>\n",
              "      <td>2.0.0</td>\n",
              "      <td>4.0.3 and up</td>\n",
              "    </tr>\n",
              "    <tr>\n",
              "      <th>2</th>\n",
              "      <td>U Launcher Lite – FREE Live Cool Themes, Hide ...</td>\n",
              "      <td>ART_AND_DESIGN</td>\n",
              "      <td>4.7</td>\n",
              "      <td>87510</td>\n",
              "      <td>8.7M</td>\n",
              "      <td>5,000,000+</td>\n",
              "      <td>Free</td>\n",
              "      <td>0</td>\n",
              "      <td>Everyone</td>\n",
              "      <td>Art &amp; Design</td>\n",
              "      <td>August 1, 2018</td>\n",
              "      <td>1.2.4</td>\n",
              "      <td>4.0.3 and up</td>\n",
              "    </tr>\n",
              "    <tr>\n",
              "      <th>3</th>\n",
              "      <td>Sketch - Draw &amp; Paint</td>\n",
              "      <td>ART_AND_DESIGN</td>\n",
              "      <td>4.5</td>\n",
              "      <td>215644</td>\n",
              "      <td>25M</td>\n",
              "      <td>50,000,000+</td>\n",
              "      <td>Free</td>\n",
              "      <td>0</td>\n",
              "      <td>Teen</td>\n",
              "      <td>Art &amp; Design</td>\n",
              "      <td>June 8, 2018</td>\n",
              "      <td>Varies with device</td>\n",
              "      <td>4.2 and up</td>\n",
              "    </tr>\n",
              "    <tr>\n",
              "      <th>4</th>\n",
              "      <td>Pixel Draw - Number Art Coloring Book</td>\n",
              "      <td>ART_AND_DESIGN</td>\n",
              "      <td>4.3</td>\n",
              "      <td>967</td>\n",
              "      <td>2.8M</td>\n",
              "      <td>100,000+</td>\n",
              "      <td>Free</td>\n",
              "      <td>0</td>\n",
              "      <td>Everyone</td>\n",
              "      <td>Art &amp; Design;Creativity</td>\n",
              "      <td>June 20, 2018</td>\n",
              "      <td>1.1</td>\n",
              "      <td>4.4 and up</td>\n",
              "    </tr>\n",
              "  </tbody>\n",
              "</table>\n",
              "</div>\n",
              "      <button class=\"colab-df-convert\" onclick=\"convertToInteractive('df-073c9c0b-3712-44fb-bf1a-0aae39671428')\"\n",
              "              title=\"Convert this dataframe to an interactive table.\"\n",
              "              style=\"display:none;\">\n",
              "        \n",
              "  <svg xmlns=\"http://www.w3.org/2000/svg\" height=\"24px\"viewBox=\"0 0 24 24\"\n",
              "       width=\"24px\">\n",
              "    <path d=\"M0 0h24v24H0V0z\" fill=\"none\"/>\n",
              "    <path d=\"M18.56 5.44l.94 2.06.94-2.06 2.06-.94-2.06-.94-.94-2.06-.94 2.06-2.06.94zm-11 1L8.5 8.5l.94-2.06 2.06-.94-2.06-.94L8.5 2.5l-.94 2.06-2.06.94zm10 10l.94 2.06.94-2.06 2.06-.94-2.06-.94-.94-2.06-.94 2.06-2.06.94z\"/><path d=\"M17.41 7.96l-1.37-1.37c-.4-.4-.92-.59-1.43-.59-.52 0-1.04.2-1.43.59L10.3 9.45l-7.72 7.72c-.78.78-.78 2.05 0 2.83L4 21.41c.39.39.9.59 1.41.59.51 0 1.02-.2 1.41-.59l7.78-7.78 2.81-2.81c.8-.78.8-2.07 0-2.86zM5.41 20L4 18.59l7.72-7.72 1.47 1.35L5.41 20z\"/>\n",
              "  </svg>\n",
              "      </button>\n",
              "      \n",
              "  <style>\n",
              "    .colab-df-container {\n",
              "      display:flex;\n",
              "      flex-wrap:wrap;\n",
              "      gap: 12px;\n",
              "    }\n",
              "\n",
              "    .colab-df-convert {\n",
              "      background-color: #E8F0FE;\n",
              "      border: none;\n",
              "      border-radius: 50%;\n",
              "      cursor: pointer;\n",
              "      display: none;\n",
              "      fill: #1967D2;\n",
              "      height: 32px;\n",
              "      padding: 0 0 0 0;\n",
              "      width: 32px;\n",
              "    }\n",
              "\n",
              "    .colab-df-convert:hover {\n",
              "      background-color: #E2EBFA;\n",
              "      box-shadow: 0px 1px 2px rgba(60, 64, 67, 0.3), 0px 1px 3px 1px rgba(60, 64, 67, 0.15);\n",
              "      fill: #174EA6;\n",
              "    }\n",
              "\n",
              "    [theme=dark] .colab-df-convert {\n",
              "      background-color: #3B4455;\n",
              "      fill: #D2E3FC;\n",
              "    }\n",
              "\n",
              "    [theme=dark] .colab-df-convert:hover {\n",
              "      background-color: #434B5C;\n",
              "      box-shadow: 0px 1px 3px 1px rgba(0, 0, 0, 0.15);\n",
              "      filter: drop-shadow(0px 1px 2px rgba(0, 0, 0, 0.3));\n",
              "      fill: #FFFFFF;\n",
              "    }\n",
              "  </style>\n",
              "\n",
              "      <script>\n",
              "        const buttonEl =\n",
              "          document.querySelector('#df-073c9c0b-3712-44fb-bf1a-0aae39671428 button.colab-df-convert');\n",
              "        buttonEl.style.display =\n",
              "          google.colab.kernel.accessAllowed ? 'block' : 'none';\n",
              "\n",
              "        async function convertToInteractive(key) {\n",
              "          const element = document.querySelector('#df-073c9c0b-3712-44fb-bf1a-0aae39671428');\n",
              "          const dataTable =\n",
              "            await google.colab.kernel.invokeFunction('convertToInteractive',\n",
              "                                                     [key], {});\n",
              "          if (!dataTable) return;\n",
              "\n",
              "          const docLinkHtml = 'Like what you see? Visit the ' +\n",
              "            '<a target=\"_blank\" href=https://colab.research.google.com/notebooks/data_table.ipynb>data table notebook</a>'\n",
              "            + ' to learn more about interactive tables.';\n",
              "          element.innerHTML = '';\n",
              "          dataTable['output_type'] = 'display_data';\n",
              "          await google.colab.output.renderOutput(dataTable, element);\n",
              "          const docLink = document.createElement('div');\n",
              "          docLink.innerHTML = docLinkHtml;\n",
              "          element.appendChild(docLink);\n",
              "        }\n",
              "      </script>\n",
              "    </div>\n",
              "  </div>\n",
              "  "
            ]
          },
          "metadata": {},
          "execution_count": 5
        }
      ],
      "source": [
        "# Dataset First Look\n",
        "df_data.head() # head() function given default 5 first rows in output of df_data dataframe"
      ]
    },
    {
      "cell_type": "code",
      "execution_count": 6,
      "metadata": {
        "id": "6lnVNVvkFPvI",
        "colab": {
          "base_uri": "https://localhost:8080/",
          "height": 206
        },
        "outputId": "70ef8f24-d501-41b8-f3bd-c59416fefc91"
      },
      "outputs": [
        {
          "output_type": "execute_result",
          "data": {
            "text/plain": [
              "                     App                                  Translated_Review  \\\n",
              "0  10 Best Foods for You  I like eat delicious food. That's I'm cooking ...   \n",
              "1  10 Best Foods for You    This help eating healthy exercise regular basis   \n",
              "2  10 Best Foods for You                                                NaN   \n",
              "3  10 Best Foods for You         Works great especially going grocery store   \n",
              "4  10 Best Foods for You                                       Best idea us   \n",
              "\n",
              "  Sentiment  Sentiment_Polarity  Sentiment_Subjectivity  \n",
              "0  Positive                1.00                0.533333  \n",
              "1  Positive                0.25                0.288462  \n",
              "2       NaN                 NaN                     NaN  \n",
              "3  Positive                0.40                0.875000  \n",
              "4  Positive                1.00                0.300000  "
            ],
            "text/html": [
              "\n",
              "  <div id=\"df-f2c263b6-04d2-4007-90e0-b2f604b09cef\">\n",
              "    <div class=\"colab-df-container\">\n",
              "      <div>\n",
              "<style scoped>\n",
              "    .dataframe tbody tr th:only-of-type {\n",
              "        vertical-align: middle;\n",
              "    }\n",
              "\n",
              "    .dataframe tbody tr th {\n",
              "        vertical-align: top;\n",
              "    }\n",
              "\n",
              "    .dataframe thead th {\n",
              "        text-align: right;\n",
              "    }\n",
              "</style>\n",
              "<table border=\"1\" class=\"dataframe\">\n",
              "  <thead>\n",
              "    <tr style=\"text-align: right;\">\n",
              "      <th></th>\n",
              "      <th>App</th>\n",
              "      <th>Translated_Review</th>\n",
              "      <th>Sentiment</th>\n",
              "      <th>Sentiment_Polarity</th>\n",
              "      <th>Sentiment_Subjectivity</th>\n",
              "    </tr>\n",
              "  </thead>\n",
              "  <tbody>\n",
              "    <tr>\n",
              "      <th>0</th>\n",
              "      <td>10 Best Foods for You</td>\n",
              "      <td>I like eat delicious food. That's I'm cooking ...</td>\n",
              "      <td>Positive</td>\n",
              "      <td>1.00</td>\n",
              "      <td>0.533333</td>\n",
              "    </tr>\n",
              "    <tr>\n",
              "      <th>1</th>\n",
              "      <td>10 Best Foods for You</td>\n",
              "      <td>This help eating healthy exercise regular basis</td>\n",
              "      <td>Positive</td>\n",
              "      <td>0.25</td>\n",
              "      <td>0.288462</td>\n",
              "    </tr>\n",
              "    <tr>\n",
              "      <th>2</th>\n",
              "      <td>10 Best Foods for You</td>\n",
              "      <td>NaN</td>\n",
              "      <td>NaN</td>\n",
              "      <td>NaN</td>\n",
              "      <td>NaN</td>\n",
              "    </tr>\n",
              "    <tr>\n",
              "      <th>3</th>\n",
              "      <td>10 Best Foods for You</td>\n",
              "      <td>Works great especially going grocery store</td>\n",
              "      <td>Positive</td>\n",
              "      <td>0.40</td>\n",
              "      <td>0.875000</td>\n",
              "    </tr>\n",
              "    <tr>\n",
              "      <th>4</th>\n",
              "      <td>10 Best Foods for You</td>\n",
              "      <td>Best idea us</td>\n",
              "      <td>Positive</td>\n",
              "      <td>1.00</td>\n",
              "      <td>0.300000</td>\n",
              "    </tr>\n",
              "  </tbody>\n",
              "</table>\n",
              "</div>\n",
              "      <button class=\"colab-df-convert\" onclick=\"convertToInteractive('df-f2c263b6-04d2-4007-90e0-b2f604b09cef')\"\n",
              "              title=\"Convert this dataframe to an interactive table.\"\n",
              "              style=\"display:none;\">\n",
              "        \n",
              "  <svg xmlns=\"http://www.w3.org/2000/svg\" height=\"24px\"viewBox=\"0 0 24 24\"\n",
              "       width=\"24px\">\n",
              "    <path d=\"M0 0h24v24H0V0z\" fill=\"none\"/>\n",
              "    <path d=\"M18.56 5.44l.94 2.06.94-2.06 2.06-.94-2.06-.94-.94-2.06-.94 2.06-2.06.94zm-11 1L8.5 8.5l.94-2.06 2.06-.94-2.06-.94L8.5 2.5l-.94 2.06-2.06.94zm10 10l.94 2.06.94-2.06 2.06-.94-2.06-.94-.94-2.06-.94 2.06-2.06.94z\"/><path d=\"M17.41 7.96l-1.37-1.37c-.4-.4-.92-.59-1.43-.59-.52 0-1.04.2-1.43.59L10.3 9.45l-7.72 7.72c-.78.78-.78 2.05 0 2.83L4 21.41c.39.39.9.59 1.41.59.51 0 1.02-.2 1.41-.59l7.78-7.78 2.81-2.81c.8-.78.8-2.07 0-2.86zM5.41 20L4 18.59l7.72-7.72 1.47 1.35L5.41 20z\"/>\n",
              "  </svg>\n",
              "      </button>\n",
              "      \n",
              "  <style>\n",
              "    .colab-df-container {\n",
              "      display:flex;\n",
              "      flex-wrap:wrap;\n",
              "      gap: 12px;\n",
              "    }\n",
              "\n",
              "    .colab-df-convert {\n",
              "      background-color: #E8F0FE;\n",
              "      border: none;\n",
              "      border-radius: 50%;\n",
              "      cursor: pointer;\n",
              "      display: none;\n",
              "      fill: #1967D2;\n",
              "      height: 32px;\n",
              "      padding: 0 0 0 0;\n",
              "      width: 32px;\n",
              "    }\n",
              "\n",
              "    .colab-df-convert:hover {\n",
              "      background-color: #E2EBFA;\n",
              "      box-shadow: 0px 1px 2px rgba(60, 64, 67, 0.3), 0px 1px 3px 1px rgba(60, 64, 67, 0.15);\n",
              "      fill: #174EA6;\n",
              "    }\n",
              "\n",
              "    [theme=dark] .colab-df-convert {\n",
              "      background-color: #3B4455;\n",
              "      fill: #D2E3FC;\n",
              "    }\n",
              "\n",
              "    [theme=dark] .colab-df-convert:hover {\n",
              "      background-color: #434B5C;\n",
              "      box-shadow: 0px 1px 3px 1px rgba(0, 0, 0, 0.15);\n",
              "      filter: drop-shadow(0px 1px 2px rgba(0, 0, 0, 0.3));\n",
              "      fill: #FFFFFF;\n",
              "    }\n",
              "  </style>\n",
              "\n",
              "      <script>\n",
              "        const buttonEl =\n",
              "          document.querySelector('#df-f2c263b6-04d2-4007-90e0-b2f604b09cef button.colab-df-convert');\n",
              "        buttonEl.style.display =\n",
              "          google.colab.kernel.accessAllowed ? 'block' : 'none';\n",
              "\n",
              "        async function convertToInteractive(key) {\n",
              "          const element = document.querySelector('#df-f2c263b6-04d2-4007-90e0-b2f604b09cef');\n",
              "          const dataTable =\n",
              "            await google.colab.kernel.invokeFunction('convertToInteractive',\n",
              "                                                     [key], {});\n",
              "          if (!dataTable) return;\n",
              "\n",
              "          const docLinkHtml = 'Like what you see? Visit the ' +\n",
              "            '<a target=\"_blank\" href=https://colab.research.google.com/notebooks/data_table.ipynb>data table notebook</a>'\n",
              "            + ' to learn more about interactive tables.';\n",
              "          element.innerHTML = '';\n",
              "          dataTable['output_type'] = 'display_data';\n",
              "          await google.colab.output.renderOutput(dataTable, element);\n",
              "          const docLink = document.createElement('div');\n",
              "          docLink.innerHTML = docLinkHtml;\n",
              "          element.appendChild(docLink);\n",
              "        }\n",
              "      </script>\n",
              "    </div>\n",
              "  </div>\n",
              "  "
            ]
          },
          "metadata": {},
          "execution_count": 6
        }
      ],
      "source": [
        "df_user_review.head()"
      ]
    },
    {
      "cell_type": "markdown",
      "metadata": {
        "id": "7hBIi_osiCS2"
      },
      "source": [
        "### Dataset Rows & Columns count"
      ]
    },
    {
      "cell_type": "code",
      "execution_count": 7,
      "metadata": {
        "id": "Kllu7SJgmLij",
        "colab": {
          "base_uri": "https://localhost:8080/"
        },
        "outputId": "a4fe7fad-4397-4908-e31c-d3b9ec2547c0"
      },
      "outputs": [
        {
          "output_type": "stream",
          "name": "stdout",
          "text": [
            "Rows in df_data dataset:  10841\n",
            "Columns in df_data dataset:  13\n",
            "Rows in df_user_review dataset:  64295\n",
            "Columns in df_user_review dataset:  5\n"
          ]
        }
      ],
      "source": [
        "# Dataset Rows & Columns count\n",
        "rows1 = df_data.shape[0]\n",
        "cols1 = df_data.shape[1]\n",
        "\n",
        "# Printing the number of Dataset rows and columns\n",
        "print(\"Rows in df_data dataset: \", rows1)\n",
        "print(\"Columns in df_data dataset: \", cols1)\n",
        "\n",
        "# Similarly for another Dataset\n",
        "\n",
        "# Dataset Rows & Columns count\n",
        "rows2 = df_user_review.shape[0]\n",
        "cols2 = df_user_review.shape[1]\n",
        "\n",
        "# Printing the number of Dataset rows and columns\n",
        "print(\"Rows in df_user_review dataset: \", rows2)\n",
        "print(\"Columns in df_user_review dataset: \", cols2)"
      ]
    },
    {
      "cell_type": "code",
      "execution_count": 8,
      "metadata": {
        "id": "aF9rNcHyLCT3",
        "colab": {
          "base_uri": "https://localhost:8080/"
        },
        "outputId": "3d9fa5ea-eb9c-4462-b04a-173f67b826b7"
      },
      "outputs": [
        {
          "output_type": "stream",
          "name": "stdout",
          "text": [
            "(10841, 13)\n",
            "(64295, 5)\n"
          ]
        }
      ],
      "source": [
        "print(df_data.shape)        # shape() method is used to fetch the dimensions of Pandas and NumPy type objects in python.\n",
        "print(df_user_review.shape)"
      ]
    },
    {
      "cell_type": "markdown",
      "metadata": {
        "id": "JlHwYmJAmNHm"
      },
      "source": [
        "### Dataset Information"
      ]
    },
    {
      "cell_type": "code",
      "execution_count": 9,
      "metadata": {
        "id": "e9hRXRi6meOf",
        "colab": {
          "base_uri": "https://localhost:8080/"
        },
        "outputId": "3b99b1ba-0847-44f7-f275-053eb3e7091f"
      },
      "outputs": [
        {
          "output_type": "stream",
          "name": "stdout",
          "text": [
            "<class 'pandas.core.frame.DataFrame'>\n",
            "RangeIndex: 10841 entries, 0 to 10840\n",
            "Data columns (total 13 columns):\n",
            " #   Column          Non-Null Count  Dtype  \n",
            "---  ------          --------------  -----  \n",
            " 0   App             10841 non-null  object \n",
            " 1   Category        10841 non-null  object \n",
            " 2   Rating          9367 non-null   float64\n",
            " 3   Reviews         10841 non-null  object \n",
            " 4   Size            10841 non-null  object \n",
            " 5   Installs        10841 non-null  object \n",
            " 6   Type            10840 non-null  object \n",
            " 7   Price           10841 non-null  object \n",
            " 8   Content Rating  10840 non-null  object \n",
            " 9   Genres          10841 non-null  object \n",
            " 10  Last Updated    10841 non-null  object \n",
            " 11  Current Ver     10833 non-null  object \n",
            " 12  Android Ver     10838 non-null  object \n",
            "dtypes: float64(1), object(12)\n",
            "memory usage: 1.1+ MB\n"
          ]
        }
      ],
      "source": [
        "# Dataset Info\n",
        "df_data.info() #This method prints information about a DataFrame including the index dtype and columns, non-null values and memory usage"
      ]
    },
    {
      "cell_type": "code",
      "execution_count": 10,
      "metadata": {
        "id": "KpZ7N9dNDz2-",
        "colab": {
          "base_uri": "https://localhost:8080/"
        },
        "outputId": "697c430b-c50c-47a6-aaf5-a15e4c5edcc1"
      },
      "outputs": [
        {
          "output_type": "stream",
          "name": "stdout",
          "text": [
            "<class 'pandas.core.frame.DataFrame'>\n",
            "RangeIndex: 64295 entries, 0 to 64294\n",
            "Data columns (total 5 columns):\n",
            " #   Column                  Non-Null Count  Dtype  \n",
            "---  ------                  --------------  -----  \n",
            " 0   App                     64295 non-null  object \n",
            " 1   Translated_Review       37427 non-null  object \n",
            " 2   Sentiment               37432 non-null  object \n",
            " 3   Sentiment_Polarity      37432 non-null  float64\n",
            " 4   Sentiment_Subjectivity  37432 non-null  float64\n",
            "dtypes: float64(2), object(3)\n",
            "memory usage: 2.5+ MB\n"
          ]
        }
      ],
      "source": [
        "df_user_review.info()"
      ]
    },
    {
      "cell_type": "markdown",
      "metadata": {
        "id": "35m5QtbWiB9F"
      },
      "source": [
        "#### Duplicate Values"
      ]
    },
    {
      "cell_type": "code",
      "execution_count": 11,
      "metadata": {
        "id": "1sLdpKYkmox0",
        "colab": {
          "base_uri": "https://localhost:8080/"
        },
        "outputId": "af06c47d-b64d-4d73-c52c-f6545b624b43"
      },
      "outputs": [
        {
          "output_type": "stream",
          "name": "stdout",
          "text": [
            "Shape of df_data DataFreame: (10841, 13)\n",
            "Shape of df_user_review DataFreame: (64295, 5)\n"
          ]
        }
      ],
      "source": [
        "# Dataset Duplicate Value Count\n",
        "print(\"Shape of df_data DataFreame:\",df_data.shape)    # dataset shape before removing duplicate values.\n",
        "print(\"Shape of df_user_review DataFreame:\",df_user_review.shape)"
      ]
    },
    {
      "cell_type": "code",
      "execution_count": 12,
      "metadata": {
        "id": "UUdJ95lm7dbl",
        "colab": {
          "base_uri": "https://localhost:8080/"
        },
        "outputId": "6bdc5b00-558d-45c8-e53f-e0d1c84a4af3"
      },
      "outputs": [
        {
          "output_type": "stream",
          "name": "stdout",
          "text": [
            "Duplicate entry in df_data data: 483\n",
            "Duplicate entry in df_user_review data: 33616\n"
          ]
        }
      ],
      "source": [
        "print(\"Duplicate entry in df_data data:\",len(df_data[df_data.duplicated()]))  #By using duplicated method count total number of duplicates in dataset\n",
        "print(\"Duplicate entry in df_user_review data:\",len(df_user_review[df_user_review.duplicated()]))"
      ]
    },
    {
      "cell_type": "code",
      "execution_count": 13,
      "metadata": {
        "id": "yGPYh_Yx3BaI",
        "colab": {
          "base_uri": "https://localhost:8080/",
          "height": 921
        },
        "outputId": "ef722460-a535-407d-cbb7-138853d59958"
      },
      "outputs": [
        {
          "output_type": "execute_result",
          "data": {
            "text/plain": [
              "                                App             Category  Rating Reviews  \\\n",
              "164                    Ebook Reader  BOOKS_AND_REFERENCE     4.1   85842   \n",
              "192   Docs To Go™ Free Office Suite             BUSINESS     4.1  217730   \n",
              "193              Google My Business             BUSINESS     4.4   70991   \n",
              "204                             Box             BUSINESS     4.2  159872   \n",
              "213             ZOOM Cloud Meetings             BUSINESS     4.4   31614   \n",
              "...                             ...                  ...     ...     ...   \n",
              "3787     ABC News - US & World News   NEWS_AND_MAGAZINES     4.0   18976   \n",
              "3788                       NBC News   NEWS_AND_MAGAZINES     4.1   63020   \n",
              "3790                      USA TODAY   NEWS_AND_MAGAZINES     4.1   49259   \n",
              "3792   CNN Breaking US & World News   NEWS_AND_MAGAZINES     4.0  293080   \n",
              "3795   Newsroom: News Worth Sharing   NEWS_AND_MAGAZINES     4.2  201737   \n",
              "\n",
              "                    Size     Installs  Type Price Content Rating  \\\n",
              "164                  37M   5,000,000+  Free     0       Everyone   \n",
              "192   Varies with device  50,000,000+  Free     0       Everyone   \n",
              "193   Varies with device   5,000,000+  Free     0       Everyone   \n",
              "204   Varies with device  10,000,000+  Free     0       Everyone   \n",
              "213                  37M  10,000,000+  Free     0       Everyone   \n",
              "...                  ...          ...   ...   ...            ...   \n",
              "3787                 35M   1,000,000+  Free     0   Everyone 10+   \n",
              "3788  Varies with device   5,000,000+  Free     0   Everyone 10+   \n",
              "3790  Varies with device   5,000,000+  Free     0   Everyone 10+   \n",
              "3792                 25M  10,000,000+  Free     0   Everyone 10+   \n",
              "3795  Varies with device  10,000,000+  Free     0   Everyone 10+   \n",
              "\n",
              "                 Genres       Last Updated         Current Ver  \\\n",
              "164   Books & Reference      June 25, 2018               5.0.6   \n",
              "192            Business      April 2, 2018  Varies with device   \n",
              "193            Business      July 24, 2018    2.19.0.204537701   \n",
              "204            Business      July 31, 2018  Varies with device   \n",
              "213            Business      July 20, 2018      4.1.28165.0716   \n",
              "...                 ...                ...                 ...   \n",
              "3787   News & Magazines       June 6, 2018             3.19.11   \n",
              "3788   News & Magazines  February 13, 2018  Varies with device   \n",
              "3790   News & Magazines     August 2, 2018  Varies with device   \n",
              "3792   News & Magazines     August 6, 2018                5.17   \n",
              "3795   News & Magazines       July 3, 2018  Varies with device   \n",
              "\n",
              "             Android Ver  \n",
              "164           4.0 and up  \n",
              "192   Varies with device  \n",
              "193           4.4 and up  \n",
              "204   Varies with device  \n",
              "213           4.0 and up  \n",
              "...                  ...  \n",
              "3787          5.0 and up  \n",
              "3788  Varies with device  \n",
              "3790  Varies with device  \n",
              "3792          4.4 and up  \n",
              "3795  Varies with device  \n",
              "\n",
              "[483 rows x 13 columns]"
            ],
            "text/html": [
              "\n",
              "  <div id=\"df-9804966c-cd96-4646-93ea-145939059f0f\">\n",
              "    <div class=\"colab-df-container\">\n",
              "      <div>\n",
              "<style scoped>\n",
              "    .dataframe tbody tr th:only-of-type {\n",
              "        vertical-align: middle;\n",
              "    }\n",
              "\n",
              "    .dataframe tbody tr th {\n",
              "        vertical-align: top;\n",
              "    }\n",
              "\n",
              "    .dataframe thead th {\n",
              "        text-align: right;\n",
              "    }\n",
              "</style>\n",
              "<table border=\"1\" class=\"dataframe\">\n",
              "  <thead>\n",
              "    <tr style=\"text-align: right;\">\n",
              "      <th></th>\n",
              "      <th>App</th>\n",
              "      <th>Category</th>\n",
              "      <th>Rating</th>\n",
              "      <th>Reviews</th>\n",
              "      <th>Size</th>\n",
              "      <th>Installs</th>\n",
              "      <th>Type</th>\n",
              "      <th>Price</th>\n",
              "      <th>Content Rating</th>\n",
              "      <th>Genres</th>\n",
              "      <th>Last Updated</th>\n",
              "      <th>Current Ver</th>\n",
              "      <th>Android Ver</th>\n",
              "    </tr>\n",
              "  </thead>\n",
              "  <tbody>\n",
              "    <tr>\n",
              "      <th>164</th>\n",
              "      <td>Ebook Reader</td>\n",
              "      <td>BOOKS_AND_REFERENCE</td>\n",
              "      <td>4.1</td>\n",
              "      <td>85842</td>\n",
              "      <td>37M</td>\n",
              "      <td>5,000,000+</td>\n",
              "      <td>Free</td>\n",
              "      <td>0</td>\n",
              "      <td>Everyone</td>\n",
              "      <td>Books &amp; Reference</td>\n",
              "      <td>June 25, 2018</td>\n",
              "      <td>5.0.6</td>\n",
              "      <td>4.0 and up</td>\n",
              "    </tr>\n",
              "    <tr>\n",
              "      <th>192</th>\n",
              "      <td>Docs To Go™ Free Office Suite</td>\n",
              "      <td>BUSINESS</td>\n",
              "      <td>4.1</td>\n",
              "      <td>217730</td>\n",
              "      <td>Varies with device</td>\n",
              "      <td>50,000,000+</td>\n",
              "      <td>Free</td>\n",
              "      <td>0</td>\n",
              "      <td>Everyone</td>\n",
              "      <td>Business</td>\n",
              "      <td>April 2, 2018</td>\n",
              "      <td>Varies with device</td>\n",
              "      <td>Varies with device</td>\n",
              "    </tr>\n",
              "    <tr>\n",
              "      <th>193</th>\n",
              "      <td>Google My Business</td>\n",
              "      <td>BUSINESS</td>\n",
              "      <td>4.4</td>\n",
              "      <td>70991</td>\n",
              "      <td>Varies with device</td>\n",
              "      <td>5,000,000+</td>\n",
              "      <td>Free</td>\n",
              "      <td>0</td>\n",
              "      <td>Everyone</td>\n",
              "      <td>Business</td>\n",
              "      <td>July 24, 2018</td>\n",
              "      <td>2.19.0.204537701</td>\n",
              "      <td>4.4 and up</td>\n",
              "    </tr>\n",
              "    <tr>\n",
              "      <th>204</th>\n",
              "      <td>Box</td>\n",
              "      <td>BUSINESS</td>\n",
              "      <td>4.2</td>\n",
              "      <td>159872</td>\n",
              "      <td>Varies with device</td>\n",
              "      <td>10,000,000+</td>\n",
              "      <td>Free</td>\n",
              "      <td>0</td>\n",
              "      <td>Everyone</td>\n",
              "      <td>Business</td>\n",
              "      <td>July 31, 2018</td>\n",
              "      <td>Varies with device</td>\n",
              "      <td>Varies with device</td>\n",
              "    </tr>\n",
              "    <tr>\n",
              "      <th>213</th>\n",
              "      <td>ZOOM Cloud Meetings</td>\n",
              "      <td>BUSINESS</td>\n",
              "      <td>4.4</td>\n",
              "      <td>31614</td>\n",
              "      <td>37M</td>\n",
              "      <td>10,000,000+</td>\n",
              "      <td>Free</td>\n",
              "      <td>0</td>\n",
              "      <td>Everyone</td>\n",
              "      <td>Business</td>\n",
              "      <td>July 20, 2018</td>\n",
              "      <td>4.1.28165.0716</td>\n",
              "      <td>4.0 and up</td>\n",
              "    </tr>\n",
              "    <tr>\n",
              "      <th>...</th>\n",
              "      <td>...</td>\n",
              "      <td>...</td>\n",
              "      <td>...</td>\n",
              "      <td>...</td>\n",
              "      <td>...</td>\n",
              "      <td>...</td>\n",
              "      <td>...</td>\n",
              "      <td>...</td>\n",
              "      <td>...</td>\n",
              "      <td>...</td>\n",
              "      <td>...</td>\n",
              "      <td>...</td>\n",
              "      <td>...</td>\n",
              "    </tr>\n",
              "    <tr>\n",
              "      <th>3787</th>\n",
              "      <td>ABC News - US &amp; World News</td>\n",
              "      <td>NEWS_AND_MAGAZINES</td>\n",
              "      <td>4.0</td>\n",
              "      <td>18976</td>\n",
              "      <td>35M</td>\n",
              "      <td>1,000,000+</td>\n",
              "      <td>Free</td>\n",
              "      <td>0</td>\n",
              "      <td>Everyone 10+</td>\n",
              "      <td>News &amp; Magazines</td>\n",
              "      <td>June 6, 2018</td>\n",
              "      <td>3.19.11</td>\n",
              "      <td>5.0 and up</td>\n",
              "    </tr>\n",
              "    <tr>\n",
              "      <th>3788</th>\n",
              "      <td>NBC News</td>\n",
              "      <td>NEWS_AND_MAGAZINES</td>\n",
              "      <td>4.1</td>\n",
              "      <td>63020</td>\n",
              "      <td>Varies with device</td>\n",
              "      <td>5,000,000+</td>\n",
              "      <td>Free</td>\n",
              "      <td>0</td>\n",
              "      <td>Everyone 10+</td>\n",
              "      <td>News &amp; Magazines</td>\n",
              "      <td>February 13, 2018</td>\n",
              "      <td>Varies with device</td>\n",
              "      <td>Varies with device</td>\n",
              "    </tr>\n",
              "    <tr>\n",
              "      <th>3790</th>\n",
              "      <td>USA TODAY</td>\n",
              "      <td>NEWS_AND_MAGAZINES</td>\n",
              "      <td>4.1</td>\n",
              "      <td>49259</td>\n",
              "      <td>Varies with device</td>\n",
              "      <td>5,000,000+</td>\n",
              "      <td>Free</td>\n",
              "      <td>0</td>\n",
              "      <td>Everyone 10+</td>\n",
              "      <td>News &amp; Magazines</td>\n",
              "      <td>August 2, 2018</td>\n",
              "      <td>Varies with device</td>\n",
              "      <td>Varies with device</td>\n",
              "    </tr>\n",
              "    <tr>\n",
              "      <th>3792</th>\n",
              "      <td>CNN Breaking US &amp; World News</td>\n",
              "      <td>NEWS_AND_MAGAZINES</td>\n",
              "      <td>4.0</td>\n",
              "      <td>293080</td>\n",
              "      <td>25M</td>\n",
              "      <td>10,000,000+</td>\n",
              "      <td>Free</td>\n",
              "      <td>0</td>\n",
              "      <td>Everyone 10+</td>\n",
              "      <td>News &amp; Magazines</td>\n",
              "      <td>August 6, 2018</td>\n",
              "      <td>5.17</td>\n",
              "      <td>4.4 and up</td>\n",
              "    </tr>\n",
              "    <tr>\n",
              "      <th>3795</th>\n",
              "      <td>Newsroom: News Worth Sharing</td>\n",
              "      <td>NEWS_AND_MAGAZINES</td>\n",
              "      <td>4.2</td>\n",
              "      <td>201737</td>\n",
              "      <td>Varies with device</td>\n",
              "      <td>10,000,000+</td>\n",
              "      <td>Free</td>\n",
              "      <td>0</td>\n",
              "      <td>Everyone 10+</td>\n",
              "      <td>News &amp; Magazines</td>\n",
              "      <td>July 3, 2018</td>\n",
              "      <td>Varies with device</td>\n",
              "      <td>Varies with device</td>\n",
              "    </tr>\n",
              "  </tbody>\n",
              "</table>\n",
              "<p>483 rows × 13 columns</p>\n",
              "</div>\n",
              "      <button class=\"colab-df-convert\" onclick=\"convertToInteractive('df-9804966c-cd96-4646-93ea-145939059f0f')\"\n",
              "              title=\"Convert this dataframe to an interactive table.\"\n",
              "              style=\"display:none;\">\n",
              "        \n",
              "  <svg xmlns=\"http://www.w3.org/2000/svg\" height=\"24px\"viewBox=\"0 0 24 24\"\n",
              "       width=\"24px\">\n",
              "    <path d=\"M0 0h24v24H0V0z\" fill=\"none\"/>\n",
              "    <path d=\"M18.56 5.44l.94 2.06.94-2.06 2.06-.94-2.06-.94-.94-2.06-.94 2.06-2.06.94zm-11 1L8.5 8.5l.94-2.06 2.06-.94-2.06-.94L8.5 2.5l-.94 2.06-2.06.94zm10 10l.94 2.06.94-2.06 2.06-.94-2.06-.94-.94-2.06-.94 2.06-2.06.94z\"/><path d=\"M17.41 7.96l-1.37-1.37c-.4-.4-.92-.59-1.43-.59-.52 0-1.04.2-1.43.59L10.3 9.45l-7.72 7.72c-.78.78-.78 2.05 0 2.83L4 21.41c.39.39.9.59 1.41.59.51 0 1.02-.2 1.41-.59l7.78-7.78 2.81-2.81c.8-.78.8-2.07 0-2.86zM5.41 20L4 18.59l7.72-7.72 1.47 1.35L5.41 20z\"/>\n",
              "  </svg>\n",
              "      </button>\n",
              "      \n",
              "  <style>\n",
              "    .colab-df-container {\n",
              "      display:flex;\n",
              "      flex-wrap:wrap;\n",
              "      gap: 12px;\n",
              "    }\n",
              "\n",
              "    .colab-df-convert {\n",
              "      background-color: #E8F0FE;\n",
              "      border: none;\n",
              "      border-radius: 50%;\n",
              "      cursor: pointer;\n",
              "      display: none;\n",
              "      fill: #1967D2;\n",
              "      height: 32px;\n",
              "      padding: 0 0 0 0;\n",
              "      width: 32px;\n",
              "    }\n",
              "\n",
              "    .colab-df-convert:hover {\n",
              "      background-color: #E2EBFA;\n",
              "      box-shadow: 0px 1px 2px rgba(60, 64, 67, 0.3), 0px 1px 3px 1px rgba(60, 64, 67, 0.15);\n",
              "      fill: #174EA6;\n",
              "    }\n",
              "\n",
              "    [theme=dark] .colab-df-convert {\n",
              "      background-color: #3B4455;\n",
              "      fill: #D2E3FC;\n",
              "    }\n",
              "\n",
              "    [theme=dark] .colab-df-convert:hover {\n",
              "      background-color: #434B5C;\n",
              "      box-shadow: 0px 1px 3px 1px rgba(0, 0, 0, 0.15);\n",
              "      filter: drop-shadow(0px 1px 2px rgba(0, 0, 0, 0.3));\n",
              "      fill: #FFFFFF;\n",
              "    }\n",
              "  </style>\n",
              "\n",
              "      <script>\n",
              "        const buttonEl =\n",
              "          document.querySelector('#df-9804966c-cd96-4646-93ea-145939059f0f button.colab-df-convert');\n",
              "        buttonEl.style.display =\n",
              "          google.colab.kernel.accessAllowed ? 'block' : 'none';\n",
              "\n",
              "        async function convertToInteractive(key) {\n",
              "          const element = document.querySelector('#df-9804966c-cd96-4646-93ea-145939059f0f');\n",
              "          const dataTable =\n",
              "            await google.colab.kernel.invokeFunction('convertToInteractive',\n",
              "                                                     [key], {});\n",
              "          if (!dataTable) return;\n",
              "\n",
              "          const docLinkHtml = 'Like what you see? Visit the ' +\n",
              "            '<a target=\"_blank\" href=https://colab.research.google.com/notebooks/data_table.ipynb>data table notebook</a>'\n",
              "            + ' to learn more about interactive tables.';\n",
              "          element.innerHTML = '';\n",
              "          dataTable['output_type'] = 'display_data';\n",
              "          await google.colab.output.renderOutput(dataTable, element);\n",
              "          const docLink = document.createElement('div');\n",
              "          docLink.innerHTML = docLinkHtml;\n",
              "          element.appendChild(docLink);\n",
              "        }\n",
              "      </script>\n",
              "    </div>\n",
              "  </div>\n",
              "  "
            ]
          },
          "metadata": {},
          "execution_count": 13
        }
      ],
      "source": [
        "duplicate_df = df_data[df_data.duplicated(keep = 'last') ] # all duplicates values from dt_data dataset\n",
        "duplicate_df"
      ]
    },
    {
      "cell_type": "code",
      "execution_count": 14,
      "metadata": {
        "id": "8cCOC_nf8zBa",
        "colab": {
          "base_uri": "https://localhost:8080/",
          "height": 423
        },
        "outputId": "e9d60640-e4f5-40ad-bc6d-98663c28c600"
      },
      "outputs": [
        {
          "output_type": "execute_result",
          "data": {
            "text/plain": [
              "                               App  \\\n",
              "0            10 Best Foods for You   \n",
              "1            10 Best Foods for You   \n",
              "2            10 Best Foods for You   \n",
              "3            10 Best Foods for You   \n",
              "4            10 Best Foods for You   \n",
              "...                            ...   \n",
              "64289  Houzz Interior Design Ideas   \n",
              "64290  Houzz Interior Design Ideas   \n",
              "64291  Houzz Interior Design Ideas   \n",
              "64292  Houzz Interior Design Ideas   \n",
              "64293  Houzz Interior Design Ideas   \n",
              "\n",
              "                                       Translated_Review Sentiment  \\\n",
              "0      I like eat delicious food. That's I'm cooking ...  Positive   \n",
              "1        This help eating healthy exercise regular basis  Positive   \n",
              "2                                                    NaN       NaN   \n",
              "3             Works great especially going grocery store  Positive   \n",
              "4                                           Best idea us  Positive   \n",
              "...                                                  ...       ...   \n",
              "64289                                                NaN       NaN   \n",
              "64290                                                NaN       NaN   \n",
              "64291                                                NaN       NaN   \n",
              "64292                                                NaN       NaN   \n",
              "64293                                                NaN       NaN   \n",
              "\n",
              "       Sentiment_Polarity  Sentiment_Subjectivity  \n",
              "0                    1.00                0.533333  \n",
              "1                    0.25                0.288462  \n",
              "2                     NaN                     NaN  \n",
              "3                    0.40                0.875000  \n",
              "4                    1.00                0.300000  \n",
              "...                   ...                     ...  \n",
              "64289                 NaN                     NaN  \n",
              "64290                 NaN                     NaN  \n",
              "64291                 NaN                     NaN  \n",
              "64292                 NaN                     NaN  \n",
              "64293                 NaN                     NaN  \n",
              "\n",
              "[33616 rows x 5 columns]"
            ],
            "text/html": [
              "\n",
              "  <div id=\"df-d5fcd12f-15c8-4327-9c37-0fa1641bbe2b\">\n",
              "    <div class=\"colab-df-container\">\n",
              "      <div>\n",
              "<style scoped>\n",
              "    .dataframe tbody tr th:only-of-type {\n",
              "        vertical-align: middle;\n",
              "    }\n",
              "\n",
              "    .dataframe tbody tr th {\n",
              "        vertical-align: top;\n",
              "    }\n",
              "\n",
              "    .dataframe thead th {\n",
              "        text-align: right;\n",
              "    }\n",
              "</style>\n",
              "<table border=\"1\" class=\"dataframe\">\n",
              "  <thead>\n",
              "    <tr style=\"text-align: right;\">\n",
              "      <th></th>\n",
              "      <th>App</th>\n",
              "      <th>Translated_Review</th>\n",
              "      <th>Sentiment</th>\n",
              "      <th>Sentiment_Polarity</th>\n",
              "      <th>Sentiment_Subjectivity</th>\n",
              "    </tr>\n",
              "  </thead>\n",
              "  <tbody>\n",
              "    <tr>\n",
              "      <th>0</th>\n",
              "      <td>10 Best Foods for You</td>\n",
              "      <td>I like eat delicious food. That's I'm cooking ...</td>\n",
              "      <td>Positive</td>\n",
              "      <td>1.00</td>\n",
              "      <td>0.533333</td>\n",
              "    </tr>\n",
              "    <tr>\n",
              "      <th>1</th>\n",
              "      <td>10 Best Foods for You</td>\n",
              "      <td>This help eating healthy exercise regular basis</td>\n",
              "      <td>Positive</td>\n",
              "      <td>0.25</td>\n",
              "      <td>0.288462</td>\n",
              "    </tr>\n",
              "    <tr>\n",
              "      <th>2</th>\n",
              "      <td>10 Best Foods for You</td>\n",
              "      <td>NaN</td>\n",
              "      <td>NaN</td>\n",
              "      <td>NaN</td>\n",
              "      <td>NaN</td>\n",
              "    </tr>\n",
              "    <tr>\n",
              "      <th>3</th>\n",
              "      <td>10 Best Foods for You</td>\n",
              "      <td>Works great especially going grocery store</td>\n",
              "      <td>Positive</td>\n",
              "      <td>0.40</td>\n",
              "      <td>0.875000</td>\n",
              "    </tr>\n",
              "    <tr>\n",
              "      <th>4</th>\n",
              "      <td>10 Best Foods for You</td>\n",
              "      <td>Best idea us</td>\n",
              "      <td>Positive</td>\n",
              "      <td>1.00</td>\n",
              "      <td>0.300000</td>\n",
              "    </tr>\n",
              "    <tr>\n",
              "      <th>...</th>\n",
              "      <td>...</td>\n",
              "      <td>...</td>\n",
              "      <td>...</td>\n",
              "      <td>...</td>\n",
              "      <td>...</td>\n",
              "    </tr>\n",
              "    <tr>\n",
              "      <th>64289</th>\n",
              "      <td>Houzz Interior Design Ideas</td>\n",
              "      <td>NaN</td>\n",
              "      <td>NaN</td>\n",
              "      <td>NaN</td>\n",
              "      <td>NaN</td>\n",
              "    </tr>\n",
              "    <tr>\n",
              "      <th>64290</th>\n",
              "      <td>Houzz Interior Design Ideas</td>\n",
              "      <td>NaN</td>\n",
              "      <td>NaN</td>\n",
              "      <td>NaN</td>\n",
              "      <td>NaN</td>\n",
              "    </tr>\n",
              "    <tr>\n",
              "      <th>64291</th>\n",
              "      <td>Houzz Interior Design Ideas</td>\n",
              "      <td>NaN</td>\n",
              "      <td>NaN</td>\n",
              "      <td>NaN</td>\n",
              "      <td>NaN</td>\n",
              "    </tr>\n",
              "    <tr>\n",
              "      <th>64292</th>\n",
              "      <td>Houzz Interior Design Ideas</td>\n",
              "      <td>NaN</td>\n",
              "      <td>NaN</td>\n",
              "      <td>NaN</td>\n",
              "      <td>NaN</td>\n",
              "    </tr>\n",
              "    <tr>\n",
              "      <th>64293</th>\n",
              "      <td>Houzz Interior Design Ideas</td>\n",
              "      <td>NaN</td>\n",
              "      <td>NaN</td>\n",
              "      <td>NaN</td>\n",
              "      <td>NaN</td>\n",
              "    </tr>\n",
              "  </tbody>\n",
              "</table>\n",
              "<p>33616 rows × 5 columns</p>\n",
              "</div>\n",
              "      <button class=\"colab-df-convert\" onclick=\"convertToInteractive('df-d5fcd12f-15c8-4327-9c37-0fa1641bbe2b')\"\n",
              "              title=\"Convert this dataframe to an interactive table.\"\n",
              "              style=\"display:none;\">\n",
              "        \n",
              "  <svg xmlns=\"http://www.w3.org/2000/svg\" height=\"24px\"viewBox=\"0 0 24 24\"\n",
              "       width=\"24px\">\n",
              "    <path d=\"M0 0h24v24H0V0z\" fill=\"none\"/>\n",
              "    <path d=\"M18.56 5.44l.94 2.06.94-2.06 2.06-.94-2.06-.94-.94-2.06-.94 2.06-2.06.94zm-11 1L8.5 8.5l.94-2.06 2.06-.94-2.06-.94L8.5 2.5l-.94 2.06-2.06.94zm10 10l.94 2.06.94-2.06 2.06-.94-2.06-.94-.94-2.06-.94 2.06-2.06.94z\"/><path d=\"M17.41 7.96l-1.37-1.37c-.4-.4-.92-.59-1.43-.59-.52 0-1.04.2-1.43.59L10.3 9.45l-7.72 7.72c-.78.78-.78 2.05 0 2.83L4 21.41c.39.39.9.59 1.41.59.51 0 1.02-.2 1.41-.59l7.78-7.78 2.81-2.81c.8-.78.8-2.07 0-2.86zM5.41 20L4 18.59l7.72-7.72 1.47 1.35L5.41 20z\"/>\n",
              "  </svg>\n",
              "      </button>\n",
              "      \n",
              "  <style>\n",
              "    .colab-df-container {\n",
              "      display:flex;\n",
              "      flex-wrap:wrap;\n",
              "      gap: 12px;\n",
              "    }\n",
              "\n",
              "    .colab-df-convert {\n",
              "      background-color: #E8F0FE;\n",
              "      border: none;\n",
              "      border-radius: 50%;\n",
              "      cursor: pointer;\n",
              "      display: none;\n",
              "      fill: #1967D2;\n",
              "      height: 32px;\n",
              "      padding: 0 0 0 0;\n",
              "      width: 32px;\n",
              "    }\n",
              "\n",
              "    .colab-df-convert:hover {\n",
              "      background-color: #E2EBFA;\n",
              "      box-shadow: 0px 1px 2px rgba(60, 64, 67, 0.3), 0px 1px 3px 1px rgba(60, 64, 67, 0.15);\n",
              "      fill: #174EA6;\n",
              "    }\n",
              "\n",
              "    [theme=dark] .colab-df-convert {\n",
              "      background-color: #3B4455;\n",
              "      fill: #D2E3FC;\n",
              "    }\n",
              "\n",
              "    [theme=dark] .colab-df-convert:hover {\n",
              "      background-color: #434B5C;\n",
              "      box-shadow: 0px 1px 3px 1px rgba(0, 0, 0, 0.15);\n",
              "      filter: drop-shadow(0px 1px 2px rgba(0, 0, 0, 0.3));\n",
              "      fill: #FFFFFF;\n",
              "    }\n",
              "  </style>\n",
              "\n",
              "      <script>\n",
              "        const buttonEl =\n",
              "          document.querySelector('#df-d5fcd12f-15c8-4327-9c37-0fa1641bbe2b button.colab-df-convert');\n",
              "        buttonEl.style.display =\n",
              "          google.colab.kernel.accessAllowed ? 'block' : 'none';\n",
              "\n",
              "        async function convertToInteractive(key) {\n",
              "          const element = document.querySelector('#df-d5fcd12f-15c8-4327-9c37-0fa1641bbe2b');\n",
              "          const dataTable =\n",
              "            await google.colab.kernel.invokeFunction('convertToInteractive',\n",
              "                                                     [key], {});\n",
              "          if (!dataTable) return;\n",
              "\n",
              "          const docLinkHtml = 'Like what you see? Visit the ' +\n",
              "            '<a target=\"_blank\" href=https://colab.research.google.com/notebooks/data_table.ipynb>data table notebook</a>'\n",
              "            + ' to learn more about interactive tables.';\n",
              "          element.innerHTML = '';\n",
              "          dataTable['output_type'] = 'display_data';\n",
              "          await google.colab.output.renderOutput(dataTable, element);\n",
              "          const docLink = document.createElement('div');\n",
              "          docLink.innerHTML = docLinkHtml;\n",
              "          element.appendChild(docLink);\n",
              "        }\n",
              "      </script>\n",
              "    </div>\n",
              "  </div>\n",
              "  "
            ]
          },
          "metadata": {},
          "execution_count": 14
        }
      ],
      "source": [
        "duplicate_df2 = df_user_review[df_user_review.duplicated(keep = 'last') ] # all duplicates values from df_user_review dataset\n",
        "duplicate_df2"
      ]
    },
    {
      "cell_type": "code",
      "execution_count": 15,
      "metadata": {
        "id": "C1k1WG79KqIy",
        "colab": {
          "base_uri": "https://localhost:8080/"
        },
        "outputId": "cb5a570e-65f4-4ab7-c71e-718cfd1b2354"
      },
      "outputs": [
        {
          "output_type": "execute_result",
          "data": {
            "text/plain": [
              "(10358, 13)"
            ]
          },
          "metadata": {},
          "execution_count": 15
        }
      ],
      "source": [
        "#Remove Duplicates from Main Database\n",
        "main_data_1 = df_data.drop_duplicates() #remove duplicate and save as new main_data_1\n",
        "main_data_1.shape #shape after removing duplicates"
      ]
    },
    {
      "cell_type": "code",
      "execution_count": 16,
      "metadata": {
        "id": "M4T1Dv4GLDVq",
        "colab": {
          "base_uri": "https://localhost:8080/"
        },
        "outputId": "e2640af4-3dac-4155-fa95-dffff8526ad2"
      },
      "outputs": [
        {
          "output_type": "execute_result",
          "data": {
            "text/plain": [
              "(30679, 5)"
            ]
          },
          "metadata": {},
          "execution_count": 16
        }
      ],
      "source": [
        "#Remove Duplicates from Main Database\n",
        "user_reviews_df1 = df_user_review.drop_duplicates() #remove duplicate and save as new DataFrame user_reviews_df1\n",
        "user_reviews_df1.shape #shape after removing duplicates"
      ]
    },
    {
      "cell_type": "markdown",
      "metadata": {
        "id": "PoPl-ycgm1ru"
      },
      "source": [
        "#### Missing Values/Null Values"
      ]
    },
    {
      "cell_type": "code",
      "execution_count": 17,
      "metadata": {
        "id": "GgHWkxvamxVg",
        "colab": {
          "base_uri": "https://localhost:8080/"
        },
        "outputId": "abff627d-1b8e-4a4b-cf3b-f38260c1b345"
      },
      "outputs": [
        {
          "output_type": "execute_result",
          "data": {
            "text/plain": [
              "1478"
            ]
          },
          "metadata": {},
          "execution_count": 17
        }
      ],
      "source": [
        "# Missing Values/Null Values Count\n",
        "main_data_1.isnull().sum().sum()\n",
        "# Total number of missing values in main_data_1 is 1478"
      ]
    },
    {
      "cell_type": "code",
      "execution_count": 18,
      "metadata": {
        "id": "YbZDQ5d_NTkO",
        "colab": {
          "base_uri": "https://localhost:8080/"
        },
        "outputId": "f0a6b5ea-e463-4462-fdf3-d7ce5fe09a18"
      },
      "outputs": [
        {
          "output_type": "execute_result",
          "data": {
            "text/plain": [
              "3933"
            ]
          },
          "metadata": {},
          "execution_count": 18
        }
      ],
      "source": [
        "user_reviews_df1.isnull().sum().sum()\n",
        "# Total number of missing values in user_reviews_df1 is 3933"
      ]
    },
    {
      "cell_type": "code",
      "execution_count": 19,
      "metadata": {
        "id": "3q5wnI3om9sJ"
      },
      "outputs": [],
      "source": [
        "# Visualizing the missing values\n",
        "# define inpute_median function to fill the null values by using aggragate function like mean,mode,median.\n",
        "def inpute_median(series):\n",
        "  return series.fillna(series.median())\n",
        "\n"
      ]
    },
    {
      "cell_type": "code",
      "execution_count": 20,
      "metadata": {
        "id": "7lX8yN05amna",
        "colab": {
          "base_uri": "https://localhost:8080/"
        },
        "outputId": "56728cbe-3774-4c59-8965-b60988452a30"
      },
      "outputs": [
        {
          "output_type": "execute_result",
          "data": {
            "text/plain": [
              "array([ 4.1,  3.9,  4.7,  4.5,  4.3,  4.4,  3.8,  4.2,  4.6,  3.2,  4. ,\n",
              "        nan,  4.8,  4.9,  3.6,  3.7,  3.3,  3.4,  3.5,  3.1,  5. ,  2.6,\n",
              "        3. ,  1.9,  2.5,  2.8,  2.7,  1. ,  2.9,  2.3,  2.2,  1.7,  2. ,\n",
              "        1.8,  2.4,  1.6,  2.1,  1.4,  1.5,  1.2, 19. ])"
            ]
          },
          "metadata": {},
          "execution_count": 20
        }
      ],
      "source": [
        "main_data_1['Rating'].unique() # check null values in Rating column\n"
      ]
    },
    {
      "cell_type": "code",
      "execution_count": 21,
      "metadata": {
        "id": "iTuY0SoxbRV1"
      },
      "outputs": [],
      "source": [
        "main_data_1.Rating = main_data_1['Rating'].transform(inpute_median)"
      ]
    },
    {
      "cell_type": "code",
      "execution_count": 22,
      "metadata": {
        "id": "lKRaPbwccOdC",
        "colab": {
          "base_uri": "https://localhost:8080/"
        },
        "outputId": "78775ec2-38ae-457a-dd7d-6b47ab97e512"
      },
      "outputs": [
        {
          "output_type": "execute_result",
          "data": {
            "text/plain": [
              "App               0\n",
              "Category          0\n",
              "Rating            0\n",
              "Reviews           0\n",
              "Size              0\n",
              "Installs          0\n",
              "Type              1\n",
              "Price             0\n",
              "Content Rating    1\n",
              "Genres            0\n",
              "Last Updated      0\n",
              "Current Ver       8\n",
              "Android Ver       3\n",
              "dtype: int64"
            ]
          },
          "metadata": {},
          "execution_count": 22
        }
      ],
      "source": [
        "main_data_1.isnull().sum()"
      ]
    },
    {
      "cell_type": "code",
      "execution_count": 23,
      "metadata": {
        "id": "EerKZVeJcvsI",
        "colab": {
          "base_uri": "https://localhost:8080/"
        },
        "outputId": "d27c7304-b702-4c6b-d314-915bbbb079fc"
      },
      "outputs": [
        {
          "output_type": "stream",
          "name": "stdout",
          "text": [
            "0    Free\n",
            "Name: Type, dtype: object\n",
            "0    Varies with device\n",
            "Name: Current Ver, dtype: object\n",
            "0    4.1 and up\n",
            "Name: Android Ver, dtype: object\n"
          ]
        }
      ],
      "source": [
        "# mode of catagarical data\n",
        "print(main_data_1['Type'].mode())\n",
        "print(main_data_1['Current Ver'].mode())\n",
        "print(main_data_1['Android Ver'].mode())"
      ]
    },
    {
      "cell_type": "code",
      "execution_count": 24,
      "metadata": {
        "id": "IfwmponvfX-x"
      },
      "outputs": [],
      "source": [
        "# fill the missing catagarical values with mode\n",
        "main_data_1['Type'].fillna(str(main_data_1['Type'].mode().values[0]), inplace = True)\n",
        "main_data_1['Current Ver'].fillna(str(main_data_1['Current Ver'].mode().values[0]), inplace = True)\n",
        "main_data_1['Android Ver'].fillna(str(main_data_1['Android Ver'].mode().values[0]), inplace = True)"
      ]
    },
    {
      "cell_type": "code",
      "execution_count": 25,
      "metadata": {
        "id": "_9SztmEsiW6t",
        "colab": {
          "base_uri": "https://localhost:8080/"
        },
        "outputId": "01a4e786-1f8b-43c9-b412-58195d1c1419"
      },
      "outputs": [
        {
          "output_type": "execute_result",
          "data": {
            "text/plain": [
              "App               0\n",
              "Category          0\n",
              "Rating            0\n",
              "Reviews           0\n",
              "Size              0\n",
              "Installs          0\n",
              "Type              0\n",
              "Price             0\n",
              "Content Rating    1\n",
              "Genres            0\n",
              "Last Updated      0\n",
              "Current Ver       0\n",
              "Android Ver       0\n",
              "dtype: int64"
            ]
          },
          "metadata": {},
          "execution_count": 25
        }
      ],
      "source": [
        "main_data_1.isnull().sum()"
      ]
    },
    {
      "cell_type": "code",
      "execution_count": 52,
      "metadata": {
        "id": "lubt1Lnli4AI",
        "colab": {
          "base_uri": "https://localhost:8080/"
        },
        "outputId": "10776ad3-f6ff-417f-fda4-5c00be9328fd"
      },
      "outputs": [
        {
          "output_type": "execute_result",
          "data": {
            "text/plain": [
              "Index(['App', 'Category', 'Rating', 'Reviews', 'Size', 'Installs', 'Type',\n",
              "       'Price', 'Content Rating', 'Genres', 'Last Updated', 'Current Ver',\n",
              "       'Android Ver'],\n",
              "      dtype='object')"
            ]
          },
          "metadata": {},
          "execution_count": 52
        }
      ],
      "source": [
        "main_data_1.columns"
      ]
    },
    {
      "cell_type": "markdown",
      "metadata": {
        "id": "H0kj-8xxnORC"
      },
      "source": [
        "### What did you know about your dataset?"
      ]
    },
    {
      "cell_type": "markdown",
      "metadata": {
        "id": "gfoNAAC-nUe_"
      },
      "source": [
        "Answer Here\n",
        "The dataset given is a dataset from Telecommunication industry, and we have to analysis the churn of customers and the insights behind it.\n",
        "\n",
        "Churn prediction is analytical studies on the possibility of a customer abandoning a product or service. The goal is to understand and take steps to change it before the costumer gives up the product or service.\n",
        "\n",
        "The above dataset has 3333 rows and 20 columns. There are no mising values and duplicate values in the dataset."
      ]
    },
    {
      "cell_type": "code",
      "execution_count": 25,
      "metadata": {
        "id": "odOoFDL_9hcE"
      },
      "outputs": [],
      "source": []
    },
    {
      "cell_type": "markdown",
      "metadata": {
        "id": "nA9Y7ga8ng1Z"
      },
      "source": [
        "## ***2. Understanding Your Variables***"
      ]
    },
    {
      "cell_type": "code",
      "execution_count": 26,
      "metadata": {
        "id": "j7xfkqrt5Ag5",
        "colab": {
          "base_uri": "https://localhost:8080/"
        },
        "outputId": "96f6b515-362b-4b93-aaf3-90fb5b6dbf68"
      },
      "outputs": [
        {
          "output_type": "execute_result",
          "data": {
            "text/plain": [
              "['App',\n",
              " 'Category',\n",
              " 'Rating',\n",
              " 'Reviews',\n",
              " 'Size',\n",
              " 'Installs',\n",
              " 'Type',\n",
              " 'Price',\n",
              " 'Content Rating',\n",
              " 'Genres',\n",
              " 'Last Updated',\n",
              " 'Current Ver',\n",
              " 'Android Ver']"
            ]
          },
          "metadata": {},
          "execution_count": 26
        }
      ],
      "source": [
        "# Dataset Columns\n",
        "list(main_data_1.columns)"
      ]
    },
    {
      "cell_type": "code",
      "execution_count": 27,
      "metadata": {
        "id": "DnOaZdaE5Q5t",
        "colab": {
          "base_uri": "https://localhost:8080/",
          "height": 473
        },
        "outputId": "2e29aa48-44a3-4496-cbb3-9c9b2e998530"
      },
      "outputs": [
        {
          "output_type": "execute_result",
          "data": {
            "text/plain": [
              "           App Category        Rating Reviews                Size    Installs  \\\n",
              "count    10358    10358  10358.000000   10358               10358       10358   \n",
              "unique    9660       34           NaN    6002                 462          22   \n",
              "top     ROBLOX   FAMILY           NaN       0  Varies with device  1,000,000+   \n",
              "freq         9     1943           NaN     593                1526        1488   \n",
              "mean       NaN      NaN      4.205165     NaN                 NaN         NaN   \n",
              "std        NaN      NaN      0.506868     NaN                 NaN         NaN   \n",
              "min        NaN      NaN      1.000000     NaN                 NaN         NaN   \n",
              "25%        NaN      NaN      4.100000     NaN                 NaN         NaN   \n",
              "50%        NaN      NaN      4.300000     NaN                 NaN         NaN   \n",
              "75%        NaN      NaN      4.500000     NaN                 NaN         NaN   \n",
              "max        NaN      NaN     19.000000     NaN                 NaN         NaN   \n",
              "\n",
              "         Type  Price Content Rating Genres    Last Updated  \\\n",
              "count   10358  10358          10357  10358           10358   \n",
              "unique      3     93              6    120            1378   \n",
              "top      Free      0       Everyone  Tools  August 3, 2018   \n",
              "freq     9592   9592           8382    842             298   \n",
              "mean      NaN    NaN            NaN    NaN             NaN   \n",
              "std       NaN    NaN            NaN    NaN             NaN   \n",
              "min       NaN    NaN            NaN    NaN             NaN   \n",
              "25%       NaN    NaN            NaN    NaN             NaN   \n",
              "50%       NaN    NaN            NaN    NaN             NaN   \n",
              "75%       NaN    NaN            NaN    NaN             NaN   \n",
              "max       NaN    NaN            NaN    NaN             NaN   \n",
              "\n",
              "               Current Ver Android Ver  \n",
              "count                10358       10358  \n",
              "unique                2832          33  \n",
              "top     Varies with device  4.1 and up  \n",
              "freq                  1310        2382  \n",
              "mean                   NaN         NaN  \n",
              "std                    NaN         NaN  \n",
              "min                    NaN         NaN  \n",
              "25%                    NaN         NaN  \n",
              "50%                    NaN         NaN  \n",
              "75%                    NaN         NaN  \n",
              "max                    NaN         NaN  "
            ],
            "text/html": [
              "\n",
              "  <div id=\"df-d62e0a10-3b17-4e68-9b3d-52d7b52f4f20\">\n",
              "    <div class=\"colab-df-container\">\n",
              "      <div>\n",
              "<style scoped>\n",
              "    .dataframe tbody tr th:only-of-type {\n",
              "        vertical-align: middle;\n",
              "    }\n",
              "\n",
              "    .dataframe tbody tr th {\n",
              "        vertical-align: top;\n",
              "    }\n",
              "\n",
              "    .dataframe thead th {\n",
              "        text-align: right;\n",
              "    }\n",
              "</style>\n",
              "<table border=\"1\" class=\"dataframe\">\n",
              "  <thead>\n",
              "    <tr style=\"text-align: right;\">\n",
              "      <th></th>\n",
              "      <th>App</th>\n",
              "      <th>Category</th>\n",
              "      <th>Rating</th>\n",
              "      <th>Reviews</th>\n",
              "      <th>Size</th>\n",
              "      <th>Installs</th>\n",
              "      <th>Type</th>\n",
              "      <th>Price</th>\n",
              "      <th>Content Rating</th>\n",
              "      <th>Genres</th>\n",
              "      <th>Last Updated</th>\n",
              "      <th>Current Ver</th>\n",
              "      <th>Android Ver</th>\n",
              "    </tr>\n",
              "  </thead>\n",
              "  <tbody>\n",
              "    <tr>\n",
              "      <th>count</th>\n",
              "      <td>10358</td>\n",
              "      <td>10358</td>\n",
              "      <td>10358.000000</td>\n",
              "      <td>10358</td>\n",
              "      <td>10358</td>\n",
              "      <td>10358</td>\n",
              "      <td>10358</td>\n",
              "      <td>10358</td>\n",
              "      <td>10357</td>\n",
              "      <td>10358</td>\n",
              "      <td>10358</td>\n",
              "      <td>10358</td>\n",
              "      <td>10358</td>\n",
              "    </tr>\n",
              "    <tr>\n",
              "      <th>unique</th>\n",
              "      <td>9660</td>\n",
              "      <td>34</td>\n",
              "      <td>NaN</td>\n",
              "      <td>6002</td>\n",
              "      <td>462</td>\n",
              "      <td>22</td>\n",
              "      <td>3</td>\n",
              "      <td>93</td>\n",
              "      <td>6</td>\n",
              "      <td>120</td>\n",
              "      <td>1378</td>\n",
              "      <td>2832</td>\n",
              "      <td>33</td>\n",
              "    </tr>\n",
              "    <tr>\n",
              "      <th>top</th>\n",
              "      <td>ROBLOX</td>\n",
              "      <td>FAMILY</td>\n",
              "      <td>NaN</td>\n",
              "      <td>0</td>\n",
              "      <td>Varies with device</td>\n",
              "      <td>1,000,000+</td>\n",
              "      <td>Free</td>\n",
              "      <td>0</td>\n",
              "      <td>Everyone</td>\n",
              "      <td>Tools</td>\n",
              "      <td>August 3, 2018</td>\n",
              "      <td>Varies with device</td>\n",
              "      <td>4.1 and up</td>\n",
              "    </tr>\n",
              "    <tr>\n",
              "      <th>freq</th>\n",
              "      <td>9</td>\n",
              "      <td>1943</td>\n",
              "      <td>NaN</td>\n",
              "      <td>593</td>\n",
              "      <td>1526</td>\n",
              "      <td>1488</td>\n",
              "      <td>9592</td>\n",
              "      <td>9592</td>\n",
              "      <td>8382</td>\n",
              "      <td>842</td>\n",
              "      <td>298</td>\n",
              "      <td>1310</td>\n",
              "      <td>2382</td>\n",
              "    </tr>\n",
              "    <tr>\n",
              "      <th>mean</th>\n",
              "      <td>NaN</td>\n",
              "      <td>NaN</td>\n",
              "      <td>4.205165</td>\n",
              "      <td>NaN</td>\n",
              "      <td>NaN</td>\n",
              "      <td>NaN</td>\n",
              "      <td>NaN</td>\n",
              "      <td>NaN</td>\n",
              "      <td>NaN</td>\n",
              "      <td>NaN</td>\n",
              "      <td>NaN</td>\n",
              "      <td>NaN</td>\n",
              "      <td>NaN</td>\n",
              "    </tr>\n",
              "    <tr>\n",
              "      <th>std</th>\n",
              "      <td>NaN</td>\n",
              "      <td>NaN</td>\n",
              "      <td>0.506868</td>\n",
              "      <td>NaN</td>\n",
              "      <td>NaN</td>\n",
              "      <td>NaN</td>\n",
              "      <td>NaN</td>\n",
              "      <td>NaN</td>\n",
              "      <td>NaN</td>\n",
              "      <td>NaN</td>\n",
              "      <td>NaN</td>\n",
              "      <td>NaN</td>\n",
              "      <td>NaN</td>\n",
              "    </tr>\n",
              "    <tr>\n",
              "      <th>min</th>\n",
              "      <td>NaN</td>\n",
              "      <td>NaN</td>\n",
              "      <td>1.000000</td>\n",
              "      <td>NaN</td>\n",
              "      <td>NaN</td>\n",
              "      <td>NaN</td>\n",
              "      <td>NaN</td>\n",
              "      <td>NaN</td>\n",
              "      <td>NaN</td>\n",
              "      <td>NaN</td>\n",
              "      <td>NaN</td>\n",
              "      <td>NaN</td>\n",
              "      <td>NaN</td>\n",
              "    </tr>\n",
              "    <tr>\n",
              "      <th>25%</th>\n",
              "      <td>NaN</td>\n",
              "      <td>NaN</td>\n",
              "      <td>4.100000</td>\n",
              "      <td>NaN</td>\n",
              "      <td>NaN</td>\n",
              "      <td>NaN</td>\n",
              "      <td>NaN</td>\n",
              "      <td>NaN</td>\n",
              "      <td>NaN</td>\n",
              "      <td>NaN</td>\n",
              "      <td>NaN</td>\n",
              "      <td>NaN</td>\n",
              "      <td>NaN</td>\n",
              "    </tr>\n",
              "    <tr>\n",
              "      <th>50%</th>\n",
              "      <td>NaN</td>\n",
              "      <td>NaN</td>\n",
              "      <td>4.300000</td>\n",
              "      <td>NaN</td>\n",
              "      <td>NaN</td>\n",
              "      <td>NaN</td>\n",
              "      <td>NaN</td>\n",
              "      <td>NaN</td>\n",
              "      <td>NaN</td>\n",
              "      <td>NaN</td>\n",
              "      <td>NaN</td>\n",
              "      <td>NaN</td>\n",
              "      <td>NaN</td>\n",
              "    </tr>\n",
              "    <tr>\n",
              "      <th>75%</th>\n",
              "      <td>NaN</td>\n",
              "      <td>NaN</td>\n",
              "      <td>4.500000</td>\n",
              "      <td>NaN</td>\n",
              "      <td>NaN</td>\n",
              "      <td>NaN</td>\n",
              "      <td>NaN</td>\n",
              "      <td>NaN</td>\n",
              "      <td>NaN</td>\n",
              "      <td>NaN</td>\n",
              "      <td>NaN</td>\n",
              "      <td>NaN</td>\n",
              "      <td>NaN</td>\n",
              "    </tr>\n",
              "    <tr>\n",
              "      <th>max</th>\n",
              "      <td>NaN</td>\n",
              "      <td>NaN</td>\n",
              "      <td>19.000000</td>\n",
              "      <td>NaN</td>\n",
              "      <td>NaN</td>\n",
              "      <td>NaN</td>\n",
              "      <td>NaN</td>\n",
              "      <td>NaN</td>\n",
              "      <td>NaN</td>\n",
              "      <td>NaN</td>\n",
              "      <td>NaN</td>\n",
              "      <td>NaN</td>\n",
              "      <td>NaN</td>\n",
              "    </tr>\n",
              "  </tbody>\n",
              "</table>\n",
              "</div>\n",
              "      <button class=\"colab-df-convert\" onclick=\"convertToInteractive('df-d62e0a10-3b17-4e68-9b3d-52d7b52f4f20')\"\n",
              "              title=\"Convert this dataframe to an interactive table.\"\n",
              "              style=\"display:none;\">\n",
              "        \n",
              "  <svg xmlns=\"http://www.w3.org/2000/svg\" height=\"24px\"viewBox=\"0 0 24 24\"\n",
              "       width=\"24px\">\n",
              "    <path d=\"M0 0h24v24H0V0z\" fill=\"none\"/>\n",
              "    <path d=\"M18.56 5.44l.94 2.06.94-2.06 2.06-.94-2.06-.94-.94-2.06-.94 2.06-2.06.94zm-11 1L8.5 8.5l.94-2.06 2.06-.94-2.06-.94L8.5 2.5l-.94 2.06-2.06.94zm10 10l.94 2.06.94-2.06 2.06-.94-2.06-.94-.94-2.06-.94 2.06-2.06.94z\"/><path d=\"M17.41 7.96l-1.37-1.37c-.4-.4-.92-.59-1.43-.59-.52 0-1.04.2-1.43.59L10.3 9.45l-7.72 7.72c-.78.78-.78 2.05 0 2.83L4 21.41c.39.39.9.59 1.41.59.51 0 1.02-.2 1.41-.59l7.78-7.78 2.81-2.81c.8-.78.8-2.07 0-2.86zM5.41 20L4 18.59l7.72-7.72 1.47 1.35L5.41 20z\"/>\n",
              "  </svg>\n",
              "      </button>\n",
              "      \n",
              "  <style>\n",
              "    .colab-df-container {\n",
              "      display:flex;\n",
              "      flex-wrap:wrap;\n",
              "      gap: 12px;\n",
              "    }\n",
              "\n",
              "    .colab-df-convert {\n",
              "      background-color: #E8F0FE;\n",
              "      border: none;\n",
              "      border-radius: 50%;\n",
              "      cursor: pointer;\n",
              "      display: none;\n",
              "      fill: #1967D2;\n",
              "      height: 32px;\n",
              "      padding: 0 0 0 0;\n",
              "      width: 32px;\n",
              "    }\n",
              "\n",
              "    .colab-df-convert:hover {\n",
              "      background-color: #E2EBFA;\n",
              "      box-shadow: 0px 1px 2px rgba(60, 64, 67, 0.3), 0px 1px 3px 1px rgba(60, 64, 67, 0.15);\n",
              "      fill: #174EA6;\n",
              "    }\n",
              "\n",
              "    [theme=dark] .colab-df-convert {\n",
              "      background-color: #3B4455;\n",
              "      fill: #D2E3FC;\n",
              "    }\n",
              "\n",
              "    [theme=dark] .colab-df-convert:hover {\n",
              "      background-color: #434B5C;\n",
              "      box-shadow: 0px 1px 3px 1px rgba(0, 0, 0, 0.15);\n",
              "      filter: drop-shadow(0px 1px 2px rgba(0, 0, 0, 0.3));\n",
              "      fill: #FFFFFF;\n",
              "    }\n",
              "  </style>\n",
              "\n",
              "      <script>\n",
              "        const buttonEl =\n",
              "          document.querySelector('#df-d62e0a10-3b17-4e68-9b3d-52d7b52f4f20 button.colab-df-convert');\n",
              "        buttonEl.style.display =\n",
              "          google.colab.kernel.accessAllowed ? 'block' : 'none';\n",
              "\n",
              "        async function convertToInteractive(key) {\n",
              "          const element = document.querySelector('#df-d62e0a10-3b17-4e68-9b3d-52d7b52f4f20');\n",
              "          const dataTable =\n",
              "            await google.colab.kernel.invokeFunction('convertToInteractive',\n",
              "                                                     [key], {});\n",
              "          if (!dataTable) return;\n",
              "\n",
              "          const docLinkHtml = 'Like what you see? Visit the ' +\n",
              "            '<a target=\"_blank\" href=https://colab.research.google.com/notebooks/data_table.ipynb>data table notebook</a>'\n",
              "            + ' to learn more about interactive tables.';\n",
              "          element.innerHTML = '';\n",
              "          dataTable['output_type'] = 'display_data';\n",
              "          await google.colab.output.renderOutput(dataTable, element);\n",
              "          const docLink = document.createElement('div');\n",
              "          docLink.innerHTML = docLinkHtml;\n",
              "          element.appendChild(docLink);\n",
              "        }\n",
              "      </script>\n",
              "    </div>\n",
              "  </div>\n",
              "  "
            ]
          },
          "metadata": {},
          "execution_count": 27
        }
      ],
      "source": [
        "# Dataset Describe\n",
        "main_data_1.describe(include='all')"
      ]
    },
    {
      "cell_type": "code",
      "execution_count": 28,
      "metadata": {
        "id": "WRe-sjCh7ih2",
        "colab": {
          "base_uri": "https://localhost:8080/",
          "height": 300
        },
        "outputId": "490cf442-909e-4dd5-ea55-300d5b1a41fc"
      },
      "outputs": [
        {
          "output_type": "execute_result",
          "data": {
            "text/plain": [
              "       Sentiment_Polarity  Sentiment_Subjectivity\n",
              "count        37432.000000            37432.000000\n",
              "mean             0.182146                0.492704\n",
              "std              0.351301                0.259949\n",
              "min             -1.000000                0.000000\n",
              "25%              0.000000                0.357143\n",
              "50%              0.150000                0.514286\n",
              "75%              0.400000                0.650000\n",
              "max              1.000000                1.000000"
            ],
            "text/html": [
              "\n",
              "  <div id=\"df-1d870423-1cd9-4fec-939e-9062654a4a86\">\n",
              "    <div class=\"colab-df-container\">\n",
              "      <div>\n",
              "<style scoped>\n",
              "    .dataframe tbody tr th:only-of-type {\n",
              "        vertical-align: middle;\n",
              "    }\n",
              "\n",
              "    .dataframe tbody tr th {\n",
              "        vertical-align: top;\n",
              "    }\n",
              "\n",
              "    .dataframe thead th {\n",
              "        text-align: right;\n",
              "    }\n",
              "</style>\n",
              "<table border=\"1\" class=\"dataframe\">\n",
              "  <thead>\n",
              "    <tr style=\"text-align: right;\">\n",
              "      <th></th>\n",
              "      <th>Sentiment_Polarity</th>\n",
              "      <th>Sentiment_Subjectivity</th>\n",
              "    </tr>\n",
              "  </thead>\n",
              "  <tbody>\n",
              "    <tr>\n",
              "      <th>count</th>\n",
              "      <td>37432.000000</td>\n",
              "      <td>37432.000000</td>\n",
              "    </tr>\n",
              "    <tr>\n",
              "      <th>mean</th>\n",
              "      <td>0.182146</td>\n",
              "      <td>0.492704</td>\n",
              "    </tr>\n",
              "    <tr>\n",
              "      <th>std</th>\n",
              "      <td>0.351301</td>\n",
              "      <td>0.259949</td>\n",
              "    </tr>\n",
              "    <tr>\n",
              "      <th>min</th>\n",
              "      <td>-1.000000</td>\n",
              "      <td>0.000000</td>\n",
              "    </tr>\n",
              "    <tr>\n",
              "      <th>25%</th>\n",
              "      <td>0.000000</td>\n",
              "      <td>0.357143</td>\n",
              "    </tr>\n",
              "    <tr>\n",
              "      <th>50%</th>\n",
              "      <td>0.150000</td>\n",
              "      <td>0.514286</td>\n",
              "    </tr>\n",
              "    <tr>\n",
              "      <th>75%</th>\n",
              "      <td>0.400000</td>\n",
              "      <td>0.650000</td>\n",
              "    </tr>\n",
              "    <tr>\n",
              "      <th>max</th>\n",
              "      <td>1.000000</td>\n",
              "      <td>1.000000</td>\n",
              "    </tr>\n",
              "  </tbody>\n",
              "</table>\n",
              "</div>\n",
              "      <button class=\"colab-df-convert\" onclick=\"convertToInteractive('df-1d870423-1cd9-4fec-939e-9062654a4a86')\"\n",
              "              title=\"Convert this dataframe to an interactive table.\"\n",
              "              style=\"display:none;\">\n",
              "        \n",
              "  <svg xmlns=\"http://www.w3.org/2000/svg\" height=\"24px\"viewBox=\"0 0 24 24\"\n",
              "       width=\"24px\">\n",
              "    <path d=\"M0 0h24v24H0V0z\" fill=\"none\"/>\n",
              "    <path d=\"M18.56 5.44l.94 2.06.94-2.06 2.06-.94-2.06-.94-.94-2.06-.94 2.06-2.06.94zm-11 1L8.5 8.5l.94-2.06 2.06-.94-2.06-.94L8.5 2.5l-.94 2.06-2.06.94zm10 10l.94 2.06.94-2.06 2.06-.94-2.06-.94-.94-2.06-.94 2.06-2.06.94z\"/><path d=\"M17.41 7.96l-1.37-1.37c-.4-.4-.92-.59-1.43-.59-.52 0-1.04.2-1.43.59L10.3 9.45l-7.72 7.72c-.78.78-.78 2.05 0 2.83L4 21.41c.39.39.9.59 1.41.59.51 0 1.02-.2 1.41-.59l7.78-7.78 2.81-2.81c.8-.78.8-2.07 0-2.86zM5.41 20L4 18.59l7.72-7.72 1.47 1.35L5.41 20z\"/>\n",
              "  </svg>\n",
              "      </button>\n",
              "      \n",
              "  <style>\n",
              "    .colab-df-container {\n",
              "      display:flex;\n",
              "      flex-wrap:wrap;\n",
              "      gap: 12px;\n",
              "    }\n",
              "\n",
              "    .colab-df-convert {\n",
              "      background-color: #E8F0FE;\n",
              "      border: none;\n",
              "      border-radius: 50%;\n",
              "      cursor: pointer;\n",
              "      display: none;\n",
              "      fill: #1967D2;\n",
              "      height: 32px;\n",
              "      padding: 0 0 0 0;\n",
              "      width: 32px;\n",
              "    }\n",
              "\n",
              "    .colab-df-convert:hover {\n",
              "      background-color: #E2EBFA;\n",
              "      box-shadow: 0px 1px 2px rgba(60, 64, 67, 0.3), 0px 1px 3px 1px rgba(60, 64, 67, 0.15);\n",
              "      fill: #174EA6;\n",
              "    }\n",
              "\n",
              "    [theme=dark] .colab-df-convert {\n",
              "      background-color: #3B4455;\n",
              "      fill: #D2E3FC;\n",
              "    }\n",
              "\n",
              "    [theme=dark] .colab-df-convert:hover {\n",
              "      background-color: #434B5C;\n",
              "      box-shadow: 0px 1px 3px 1px rgba(0, 0, 0, 0.15);\n",
              "      filter: drop-shadow(0px 1px 2px rgba(0, 0, 0, 0.3));\n",
              "      fill: #FFFFFF;\n",
              "    }\n",
              "  </style>\n",
              "\n",
              "      <script>\n",
              "        const buttonEl =\n",
              "          document.querySelector('#df-1d870423-1cd9-4fec-939e-9062654a4a86 button.colab-df-convert');\n",
              "        buttonEl.style.display =\n",
              "          google.colab.kernel.accessAllowed ? 'block' : 'none';\n",
              "\n",
              "        async function convertToInteractive(key) {\n",
              "          const element = document.querySelector('#df-1d870423-1cd9-4fec-939e-9062654a4a86');\n",
              "          const dataTable =\n",
              "            await google.colab.kernel.invokeFunction('convertToInteractive',\n",
              "                                                     [key], {});\n",
              "          if (!dataTable) return;\n",
              "\n",
              "          const docLinkHtml = 'Like what you see? Visit the ' +\n",
              "            '<a target=\"_blank\" href=https://colab.research.google.com/notebooks/data_table.ipynb>data table notebook</a>'\n",
              "            + ' to learn more about interactive tables.';\n",
              "          element.innerHTML = '';\n",
              "          dataTable['output_type'] = 'display_data';\n",
              "          await google.colab.output.renderOutput(dataTable, element);\n",
              "          const docLink = document.createElement('div');\n",
              "          docLink.innerHTML = docLinkHtml;\n",
              "          element.appendChild(docLink);\n",
              "        }\n",
              "      </script>\n",
              "    </div>\n",
              "  </div>\n",
              "  "
            ]
          },
          "metadata": {},
          "execution_count": 28
        }
      ],
      "source": [
        "df_user_review.describe()"
      ]
    },
    {
      "cell_type": "code",
      "source": [
        "user_reviews_df1.columns"
      ],
      "metadata": {
        "colab": {
          "base_uri": "https://localhost:8080/"
        },
        "id": "H49lJKoKZaq_",
        "outputId": "a4ba8088-d5d3-4e57-8bf3-d4c882fbf591"
      },
      "execution_count": 54,
      "outputs": [
        {
          "output_type": "execute_result",
          "data": {
            "text/plain": [
              "Index(['App', 'Translated_Review', 'Sentiment', 'Sentiment_Polarity',\n",
              "       'Sentiment_Subjectivity'],\n",
              "      dtype='object')"
            ]
          },
          "metadata": {},
          "execution_count": 54
        }
      ]
    },
    {
      "cell_type": "markdown",
      "metadata": {
        "id": "PBTbrJXOngz2"
      },
      "source": [
        "### Variables Description"
      ]
    },
    {
      "cell_type": "markdown",
      "metadata": {
        "id": "aJV4KIxSnxay"
      },
      "source": [
        "Answer Here\n",
        "\n",
        "\n",
        "**App**: This column contains the names of the applications listed in the Play Store.\n",
        "\n",
        "**Category**: This column specifies the category or genre to which the app belongs. Examples of categories include games, social, productivity, etc.\n",
        "\n",
        "**Rating**: This column represents the average user rating given to the app. Ratings are usually on a scale of 1 to 5, with higher values indicating better user satisfaction.\n",
        "\n",
        "**Reviews**: This column indicates the number of user reviews/ratings the app has received. It represents the feedback and engagement of users with the app.\n",
        "\n",
        "**Size**: This column provides information about the size of the app in terms of storage space it occupies on a device, typically measured in megabytes (MB) or kilobytes (KB).\n",
        "\n",
        "**Installs**: This column represents the approximate number of times the app has been installed or downloaded from the Play Store. It indicates the popularity and user adoption of the app.\n",
        "\n",
        "**Type**: This column specifies whether the app is free or paid. It distinguishes between free apps and those that require a purchase or subscription.\n",
        "\n",
        "**Price**: This column indicates the cost of the app if it is not free. It represents the price users need to pay to download or access the app.\n",
        "\n",
        "**Content Rating**: This column indicates the recommended age group or audience for which the app is suitable. Examples include \"Everyone,\" \"Teen,\" \"Mature,\" etc.\n",
        "\n",
        "**Genres**: This column provides additional information about the app's genre or category, which can be more specific than the \"Category\" column. For example, within the \"Games\" category, genres could include puzzle, action, adventure, etc.\n",
        "\n",
        "**Last Updated**: This column represents the date when the app was last updated in the Play Store. It indicates the freshness and maintenance of the app.\n",
        "\n",
        "**Current Ver**: This column specifies the current version number of the app available in the Play Store. It helps users and developers track the software updates and improvements.\n",
        "\n",
        "**Android Ver**: This column indicates the minimum Android version required to run the app. It ensures compatibility between the app and the user's device.\n",
        "\n",
        "**Details of Each Columns of user_reviews_df1 DataFrame**\n",
        "\n",
        "**App**: This column likely contains the names or titles of different apps available on the Play Store. Each row corresponds to a specific app.\n",
        "\n",
        "**Translated_Review**: This column likely contains user reviews or feedback about the corresponding app in English Langauge.\n",
        "\n",
        "**Sentiment**:\tSentiment of the review, which can be positive, neutral, or negative.\n",
        "\n",
        "**Sentiment_Polarity**:\tSentiment in numerical form, ranging from -1.00 to 1.00.\n",
        "\n",
        "**Sentiment_Subjectivity**:This column likely represents the subjectivity of the reviews. Measure of the expression of opinions, evaluations, feelings, and speculations"
      ]
    },
    {
      "cell_type": "markdown",
      "metadata": {
        "id": "u3PMJOP6ngxN"
      },
      "source": [
        "### Check Unique Values for each variable."
      ]
    },
    {
      "cell_type": "code",
      "source": [
        "for i in main_data_1.columns.tolist():\n",
        "  print(\"No. of unique values in \",i,\"is\",main_data_1[i].nunique(),\".\")"
      ],
      "metadata": {
        "id": "dPoFdFOFp5EJ",
        "colab": {
          "base_uri": "https://localhost:8080/"
        },
        "outputId": "709384ff-8500-4cd1-a199-bc3dc792127d"
      },
      "execution_count": 29,
      "outputs": [
        {
          "output_type": "stream",
          "name": "stdout",
          "text": [
            "No. of unique values in  App is 9660 .\n",
            "No. of unique values in  Category is 34 .\n",
            "No. of unique values in  Rating is 40 .\n",
            "No. of unique values in  Reviews is 6002 .\n",
            "No. of unique values in  Size is 462 .\n",
            "No. of unique values in  Installs is 22 .\n",
            "No. of unique values in  Type is 3 .\n",
            "No. of unique values in  Price is 93 .\n",
            "No. of unique values in  Content Rating is 6 .\n",
            "No. of unique values in  Genres is 120 .\n",
            "No. of unique values in  Last Updated is 1378 .\n",
            "No. of unique values in  Current Ver is 2832 .\n",
            "No. of unique values in  Android Ver is 33 .\n"
          ]
        }
      ]
    },
    {
      "cell_type": "code",
      "source": [
        "main_data_1"
      ],
      "metadata": {
        "colab": {
          "base_uri": "https://localhost:8080/",
          "height": 1000
        },
        "id": "0cqr7pm6H1kd",
        "outputId": "1e5ff976-680a-4982-d331-661b0f8fcaea"
      },
      "execution_count": 50,
      "outputs": [
        {
          "output_type": "execute_result",
          "data": {
            "text/plain": [
              "                                                     App             Category  \\\n",
              "0         Photo Editor & Candy Camera & Grid & ScrapBook       ART_AND_DESIGN   \n",
              "1                                    Coloring book moana       ART_AND_DESIGN   \n",
              "2      U Launcher Lite – FREE Live Cool Themes, Hide ...       ART_AND_DESIGN   \n",
              "3                                  Sketch - Draw & Paint       ART_AND_DESIGN   \n",
              "4                  Pixel Draw - Number Art Coloring Book       ART_AND_DESIGN   \n",
              "...                                                  ...                  ...   \n",
              "10836                                   Sya9a Maroc - FR               FAMILY   \n",
              "10837                   Fr. Mike Schmitz Audio Teachings               FAMILY   \n",
              "10838                             Parkinson Exercices FR              MEDICAL   \n",
              "10839                      The SCP Foundation DB fr nn5n  BOOKS_AND_REFERENCE   \n",
              "10840      iHoroscope - 2018 Daily Horoscope & Astrology            LIFESTYLE   \n",
              "\n",
              "       Rating   Reviews     Size    Installs  Type  Price Content Rating  \\\n",
              "0         4.1     159.0  19000.0     10000.0  Free    0.0       Everyone   \n",
              "1         3.9     967.0  14000.0    500000.0  Free    0.0       Everyone   \n",
              "2         4.7   87510.0      8.7   5000000.0  Free    0.0       Everyone   \n",
              "3         4.5  215644.0  25000.0  50000000.0  Free    0.0           Teen   \n",
              "4         4.3     967.0      2.8    100000.0  Free    0.0       Everyone   \n",
              "...       ...       ...      ...         ...   ...    ...            ...   \n",
              "10836     4.5      38.0  53000.0      5000.0  Free    0.0       Everyone   \n",
              "10837     5.0       4.0      3.6       100.0  Free    0.0       Everyone   \n",
              "10838     4.3       3.0      9.5      1000.0  Free    0.0       Everyone   \n",
              "10839     4.5     114.0      NaN      1000.0  Free    0.0     Mature 17+   \n",
              "10840     4.5  398307.0  19000.0  10000000.0  Free    0.0       Everyone   \n",
              "\n",
              "                          Genres Last Updated         Current Ver  \\\n",
              "0                   Art & Design   2018-01-07               1.0.0   \n",
              "1      Art & Design;Pretend Play   2018-01-15               2.0.0   \n",
              "2                   Art & Design   2018-08-01               1.2.4   \n",
              "3                   Art & Design   2018-06-08  Varies with device   \n",
              "4        Art & Design;Creativity   2018-06-20                 1.1   \n",
              "...                          ...          ...                 ...   \n",
              "10836                  Education   2017-07-25                1.48   \n",
              "10837                  Education   2018-07-06                 1.0   \n",
              "10838                    Medical   2017-01-20                 1.0   \n",
              "10839          Books & Reference   2015-01-19  Varies with device   \n",
              "10840                  Lifestyle   2018-07-25  Varies with device   \n",
              "\n",
              "              Android Ver  \n",
              "0            4.0.3 and up  \n",
              "1            4.0.3 and up  \n",
              "2            4.0.3 and up  \n",
              "3              4.2 and up  \n",
              "4              4.4 and up  \n",
              "...                   ...  \n",
              "10836          4.1 and up  \n",
              "10837          4.1 and up  \n",
              "10838          2.2 and up  \n",
              "10839  Varies with device  \n",
              "10840  Varies with device  \n",
              "\n",
              "[10358 rows x 13 columns]"
            ],
            "text/html": [
              "\n",
              "  <div id=\"df-1b73c92f-82ee-482c-9721-b54af5aed9fb\">\n",
              "    <div class=\"colab-df-container\">\n",
              "      <div>\n",
              "<style scoped>\n",
              "    .dataframe tbody tr th:only-of-type {\n",
              "        vertical-align: middle;\n",
              "    }\n",
              "\n",
              "    .dataframe tbody tr th {\n",
              "        vertical-align: top;\n",
              "    }\n",
              "\n",
              "    .dataframe thead th {\n",
              "        text-align: right;\n",
              "    }\n",
              "</style>\n",
              "<table border=\"1\" class=\"dataframe\">\n",
              "  <thead>\n",
              "    <tr style=\"text-align: right;\">\n",
              "      <th></th>\n",
              "      <th>App</th>\n",
              "      <th>Category</th>\n",
              "      <th>Rating</th>\n",
              "      <th>Reviews</th>\n",
              "      <th>Size</th>\n",
              "      <th>Installs</th>\n",
              "      <th>Type</th>\n",
              "      <th>Price</th>\n",
              "      <th>Content Rating</th>\n",
              "      <th>Genres</th>\n",
              "      <th>Last Updated</th>\n",
              "      <th>Current Ver</th>\n",
              "      <th>Android Ver</th>\n",
              "    </tr>\n",
              "  </thead>\n",
              "  <tbody>\n",
              "    <tr>\n",
              "      <th>0</th>\n",
              "      <td>Photo Editor &amp; Candy Camera &amp; Grid &amp; ScrapBook</td>\n",
              "      <td>ART_AND_DESIGN</td>\n",
              "      <td>4.1</td>\n",
              "      <td>159.0</td>\n",
              "      <td>19000.0</td>\n",
              "      <td>10000.0</td>\n",
              "      <td>Free</td>\n",
              "      <td>0.0</td>\n",
              "      <td>Everyone</td>\n",
              "      <td>Art &amp; Design</td>\n",
              "      <td>2018-01-07</td>\n",
              "      <td>1.0.0</td>\n",
              "      <td>4.0.3 and up</td>\n",
              "    </tr>\n",
              "    <tr>\n",
              "      <th>1</th>\n",
              "      <td>Coloring book moana</td>\n",
              "      <td>ART_AND_DESIGN</td>\n",
              "      <td>3.9</td>\n",
              "      <td>967.0</td>\n",
              "      <td>14000.0</td>\n",
              "      <td>500000.0</td>\n",
              "      <td>Free</td>\n",
              "      <td>0.0</td>\n",
              "      <td>Everyone</td>\n",
              "      <td>Art &amp; Design;Pretend Play</td>\n",
              "      <td>2018-01-15</td>\n",
              "      <td>2.0.0</td>\n",
              "      <td>4.0.3 and up</td>\n",
              "    </tr>\n",
              "    <tr>\n",
              "      <th>2</th>\n",
              "      <td>U Launcher Lite – FREE Live Cool Themes, Hide ...</td>\n",
              "      <td>ART_AND_DESIGN</td>\n",
              "      <td>4.7</td>\n",
              "      <td>87510.0</td>\n",
              "      <td>8.7</td>\n",
              "      <td>5000000.0</td>\n",
              "      <td>Free</td>\n",
              "      <td>0.0</td>\n",
              "      <td>Everyone</td>\n",
              "      <td>Art &amp; Design</td>\n",
              "      <td>2018-08-01</td>\n",
              "      <td>1.2.4</td>\n",
              "      <td>4.0.3 and up</td>\n",
              "    </tr>\n",
              "    <tr>\n",
              "      <th>3</th>\n",
              "      <td>Sketch - Draw &amp; Paint</td>\n",
              "      <td>ART_AND_DESIGN</td>\n",
              "      <td>4.5</td>\n",
              "      <td>215644.0</td>\n",
              "      <td>25000.0</td>\n",
              "      <td>50000000.0</td>\n",
              "      <td>Free</td>\n",
              "      <td>0.0</td>\n",
              "      <td>Teen</td>\n",
              "      <td>Art &amp; Design</td>\n",
              "      <td>2018-06-08</td>\n",
              "      <td>Varies with device</td>\n",
              "      <td>4.2 and up</td>\n",
              "    </tr>\n",
              "    <tr>\n",
              "      <th>4</th>\n",
              "      <td>Pixel Draw - Number Art Coloring Book</td>\n",
              "      <td>ART_AND_DESIGN</td>\n",
              "      <td>4.3</td>\n",
              "      <td>967.0</td>\n",
              "      <td>2.8</td>\n",
              "      <td>100000.0</td>\n",
              "      <td>Free</td>\n",
              "      <td>0.0</td>\n",
              "      <td>Everyone</td>\n",
              "      <td>Art &amp; Design;Creativity</td>\n",
              "      <td>2018-06-20</td>\n",
              "      <td>1.1</td>\n",
              "      <td>4.4 and up</td>\n",
              "    </tr>\n",
              "    <tr>\n",
              "      <th>...</th>\n",
              "      <td>...</td>\n",
              "      <td>...</td>\n",
              "      <td>...</td>\n",
              "      <td>...</td>\n",
              "      <td>...</td>\n",
              "      <td>...</td>\n",
              "      <td>...</td>\n",
              "      <td>...</td>\n",
              "      <td>...</td>\n",
              "      <td>...</td>\n",
              "      <td>...</td>\n",
              "      <td>...</td>\n",
              "      <td>...</td>\n",
              "    </tr>\n",
              "    <tr>\n",
              "      <th>10836</th>\n",
              "      <td>Sya9a Maroc - FR</td>\n",
              "      <td>FAMILY</td>\n",
              "      <td>4.5</td>\n",
              "      <td>38.0</td>\n",
              "      <td>53000.0</td>\n",
              "      <td>5000.0</td>\n",
              "      <td>Free</td>\n",
              "      <td>0.0</td>\n",
              "      <td>Everyone</td>\n",
              "      <td>Education</td>\n",
              "      <td>2017-07-25</td>\n",
              "      <td>1.48</td>\n",
              "      <td>4.1 and up</td>\n",
              "    </tr>\n",
              "    <tr>\n",
              "      <th>10837</th>\n",
              "      <td>Fr. Mike Schmitz Audio Teachings</td>\n",
              "      <td>FAMILY</td>\n",
              "      <td>5.0</td>\n",
              "      <td>4.0</td>\n",
              "      <td>3.6</td>\n",
              "      <td>100.0</td>\n",
              "      <td>Free</td>\n",
              "      <td>0.0</td>\n",
              "      <td>Everyone</td>\n",
              "      <td>Education</td>\n",
              "      <td>2018-07-06</td>\n",
              "      <td>1.0</td>\n",
              "      <td>4.1 and up</td>\n",
              "    </tr>\n",
              "    <tr>\n",
              "      <th>10838</th>\n",
              "      <td>Parkinson Exercices FR</td>\n",
              "      <td>MEDICAL</td>\n",
              "      <td>4.3</td>\n",
              "      <td>3.0</td>\n",
              "      <td>9.5</td>\n",
              "      <td>1000.0</td>\n",
              "      <td>Free</td>\n",
              "      <td>0.0</td>\n",
              "      <td>Everyone</td>\n",
              "      <td>Medical</td>\n",
              "      <td>2017-01-20</td>\n",
              "      <td>1.0</td>\n",
              "      <td>2.2 and up</td>\n",
              "    </tr>\n",
              "    <tr>\n",
              "      <th>10839</th>\n",
              "      <td>The SCP Foundation DB fr nn5n</td>\n",
              "      <td>BOOKS_AND_REFERENCE</td>\n",
              "      <td>4.5</td>\n",
              "      <td>114.0</td>\n",
              "      <td>NaN</td>\n",
              "      <td>1000.0</td>\n",
              "      <td>Free</td>\n",
              "      <td>0.0</td>\n",
              "      <td>Mature 17+</td>\n",
              "      <td>Books &amp; Reference</td>\n",
              "      <td>2015-01-19</td>\n",
              "      <td>Varies with device</td>\n",
              "      <td>Varies with device</td>\n",
              "    </tr>\n",
              "    <tr>\n",
              "      <th>10840</th>\n",
              "      <td>iHoroscope - 2018 Daily Horoscope &amp; Astrology</td>\n",
              "      <td>LIFESTYLE</td>\n",
              "      <td>4.5</td>\n",
              "      <td>398307.0</td>\n",
              "      <td>19000.0</td>\n",
              "      <td>10000000.0</td>\n",
              "      <td>Free</td>\n",
              "      <td>0.0</td>\n",
              "      <td>Everyone</td>\n",
              "      <td>Lifestyle</td>\n",
              "      <td>2018-07-25</td>\n",
              "      <td>Varies with device</td>\n",
              "      <td>Varies with device</td>\n",
              "    </tr>\n",
              "  </tbody>\n",
              "</table>\n",
              "<p>10358 rows × 13 columns</p>\n",
              "</div>\n",
              "      <button class=\"colab-df-convert\" onclick=\"convertToInteractive('df-1b73c92f-82ee-482c-9721-b54af5aed9fb')\"\n",
              "              title=\"Convert this dataframe to an interactive table.\"\n",
              "              style=\"display:none;\">\n",
              "        \n",
              "  <svg xmlns=\"http://www.w3.org/2000/svg\" height=\"24px\"viewBox=\"0 0 24 24\"\n",
              "       width=\"24px\">\n",
              "    <path d=\"M0 0h24v24H0V0z\" fill=\"none\"/>\n",
              "    <path d=\"M18.56 5.44l.94 2.06.94-2.06 2.06-.94-2.06-.94-.94-2.06-.94 2.06-2.06.94zm-11 1L8.5 8.5l.94-2.06 2.06-.94-2.06-.94L8.5 2.5l-.94 2.06-2.06.94zm10 10l.94 2.06.94-2.06 2.06-.94-2.06-.94-.94-2.06-.94 2.06-2.06.94z\"/><path d=\"M17.41 7.96l-1.37-1.37c-.4-.4-.92-.59-1.43-.59-.52 0-1.04.2-1.43.59L10.3 9.45l-7.72 7.72c-.78.78-.78 2.05 0 2.83L4 21.41c.39.39.9.59 1.41.59.51 0 1.02-.2 1.41-.59l7.78-7.78 2.81-2.81c.8-.78.8-2.07 0-2.86zM5.41 20L4 18.59l7.72-7.72 1.47 1.35L5.41 20z\"/>\n",
              "  </svg>\n",
              "      </button>\n",
              "      \n",
              "  <style>\n",
              "    .colab-df-container {\n",
              "      display:flex;\n",
              "      flex-wrap:wrap;\n",
              "      gap: 12px;\n",
              "    }\n",
              "\n",
              "    .colab-df-convert {\n",
              "      background-color: #E8F0FE;\n",
              "      border: none;\n",
              "      border-radius: 50%;\n",
              "      cursor: pointer;\n",
              "      display: none;\n",
              "      fill: #1967D2;\n",
              "      height: 32px;\n",
              "      padding: 0 0 0 0;\n",
              "      width: 32px;\n",
              "    }\n",
              "\n",
              "    .colab-df-convert:hover {\n",
              "      background-color: #E2EBFA;\n",
              "      box-shadow: 0px 1px 2px rgba(60, 64, 67, 0.3), 0px 1px 3px 1px rgba(60, 64, 67, 0.15);\n",
              "      fill: #174EA6;\n",
              "    }\n",
              "\n",
              "    [theme=dark] .colab-df-convert {\n",
              "      background-color: #3B4455;\n",
              "      fill: #D2E3FC;\n",
              "    }\n",
              "\n",
              "    [theme=dark] .colab-df-convert:hover {\n",
              "      background-color: #434B5C;\n",
              "      box-shadow: 0px 1px 3px 1px rgba(0, 0, 0, 0.15);\n",
              "      filter: drop-shadow(0px 1px 2px rgba(0, 0, 0, 0.3));\n",
              "      fill: #FFFFFF;\n",
              "    }\n",
              "  </style>\n",
              "\n",
              "      <script>\n",
              "        const buttonEl =\n",
              "          document.querySelector('#df-1b73c92f-82ee-482c-9721-b54af5aed9fb button.colab-df-convert');\n",
              "        buttonEl.style.display =\n",
              "          google.colab.kernel.accessAllowed ? 'block' : 'none';\n",
              "\n",
              "        async function convertToInteractive(key) {\n",
              "          const element = document.querySelector('#df-1b73c92f-82ee-482c-9721-b54af5aed9fb');\n",
              "          const dataTable =\n",
              "            await google.colab.kernel.invokeFunction('convertToInteractive',\n",
              "                                                     [key], {});\n",
              "          if (!dataTable) return;\n",
              "\n",
              "          const docLinkHtml = 'Like what you see? Visit the ' +\n",
              "            '<a target=\"_blank\" href=https://colab.research.google.com/notebooks/data_table.ipynb>data table notebook</a>'\n",
              "            + ' to learn more about interactive tables.';\n",
              "          element.innerHTML = '';\n",
              "          dataTable['output_type'] = 'display_data';\n",
              "          await google.colab.output.renderOutput(dataTable, element);\n",
              "          const docLink = document.createElement('div');\n",
              "          docLink.innerHTML = docLinkHtml;\n",
              "          element.appendChild(docLink);\n",
              "        }\n",
              "      </script>\n",
              "    </div>\n",
              "  </div>\n",
              "  "
            ]
          },
          "metadata": {},
          "execution_count": 50
        }
      ]
    },
    {
      "cell_type": "markdown",
      "metadata": {
        "id": "dauF4eBmngu3"
      },
      "source": [
        "## 3. ***Data Wrangling***"
      ]
    },
    {
      "cell_type": "markdown",
      "metadata": {
        "id": "bKJF3rekwFvQ"
      },
      "source": [
        "### Data Wrangling Code"
      ]
    },
    {
      "cell_type": "code",
      "source": [
        "# Check Unique Values for each variable.\n",
        "# Category\n",
        "main_data_1['Category'].unique()"
      ],
      "metadata": {
        "id": "yf_Ta02J4_Nz",
        "colab": {
          "base_uri": "https://localhost:8080/"
        },
        "outputId": "aa790331-e5f2-432b-c450-45c13c4aac24"
      },
      "execution_count": 30,
      "outputs": [
        {
          "output_type": "execute_result",
          "data": {
            "text/plain": [
              "array(['ART_AND_DESIGN', 'AUTO_AND_VEHICLES', 'BEAUTY',\n",
              "       'BOOKS_AND_REFERENCE', 'BUSINESS', 'COMICS', 'COMMUNICATION',\n",
              "       'DATING', 'EDUCATION', 'ENTERTAINMENT', 'EVENTS', 'FINANCE',\n",
              "       'FOOD_AND_DRINK', 'HEALTH_AND_FITNESS', 'HOUSE_AND_HOME',\n",
              "       'LIBRARIES_AND_DEMO', 'LIFESTYLE', 'GAME', 'FAMILY', 'MEDICAL',\n",
              "       'SOCIAL', 'SHOPPING', 'PHOTOGRAPHY', 'SPORTS', 'TRAVEL_AND_LOCAL',\n",
              "       'TOOLS', 'PERSONALIZATION', 'PRODUCTIVITY', 'PARENTING', 'WEATHER',\n",
              "       'VIDEO_PLAYERS', 'NEWS_AND_MAGAZINES', 'MAPS_AND_NAVIGATION',\n",
              "       '1.9'], dtype=object)"
            ]
          },
          "metadata": {},
          "execution_count": 30
        }
      ]
    },
    {
      "cell_type": "code",
      "source": [
        "# '1.9' is wrong value. So I have to see in which rows '1.9' corresponds to.\n",
        "main_data_1[main_data_1['Category'] == '1.9']\n"
      ],
      "metadata": {
        "id": "Y0PW7AbA4_BP",
        "colab": {
          "base_uri": "https://localhost:8080/",
          "height": 0
        },
        "outputId": "9a902302-8583-4ff5-b58b-8d744dff4d90"
      },
      "execution_count": 31,
      "outputs": [
        {
          "output_type": "execute_result",
          "data": {
            "text/plain": [
              "                                           App Category  Rating Reviews  \\\n",
              "10472  Life Made WI-Fi Touchscreen Photo Frame      1.9    19.0    3.0M   \n",
              "\n",
              "         Size Installs Type     Price Content Rating             Genres  \\\n",
              "10472  1,000+     Free    0  Everyone            NaN  February 11, 2018   \n",
              "\n",
              "      Last Updated Current Ver Android Ver  \n",
              "10472       1.0.19  4.0 and up  4.1 and up  "
            ],
            "text/html": [
              "\n",
              "  <div id=\"df-7ca6ee1b-faeb-467f-84d7-6323c1f9de6b\">\n",
              "    <div class=\"colab-df-container\">\n",
              "      <div>\n",
              "<style scoped>\n",
              "    .dataframe tbody tr th:only-of-type {\n",
              "        vertical-align: middle;\n",
              "    }\n",
              "\n",
              "    .dataframe tbody tr th {\n",
              "        vertical-align: top;\n",
              "    }\n",
              "\n",
              "    .dataframe thead th {\n",
              "        text-align: right;\n",
              "    }\n",
              "</style>\n",
              "<table border=\"1\" class=\"dataframe\">\n",
              "  <thead>\n",
              "    <tr style=\"text-align: right;\">\n",
              "      <th></th>\n",
              "      <th>App</th>\n",
              "      <th>Category</th>\n",
              "      <th>Rating</th>\n",
              "      <th>Reviews</th>\n",
              "      <th>Size</th>\n",
              "      <th>Installs</th>\n",
              "      <th>Type</th>\n",
              "      <th>Price</th>\n",
              "      <th>Content Rating</th>\n",
              "      <th>Genres</th>\n",
              "      <th>Last Updated</th>\n",
              "      <th>Current Ver</th>\n",
              "      <th>Android Ver</th>\n",
              "    </tr>\n",
              "  </thead>\n",
              "  <tbody>\n",
              "    <tr>\n",
              "      <th>10472</th>\n",
              "      <td>Life Made WI-Fi Touchscreen Photo Frame</td>\n",
              "      <td>1.9</td>\n",
              "      <td>19.0</td>\n",
              "      <td>3.0M</td>\n",
              "      <td>1,000+</td>\n",
              "      <td>Free</td>\n",
              "      <td>0</td>\n",
              "      <td>Everyone</td>\n",
              "      <td>NaN</td>\n",
              "      <td>February 11, 2018</td>\n",
              "      <td>1.0.19</td>\n",
              "      <td>4.0 and up</td>\n",
              "      <td>4.1 and up</td>\n",
              "    </tr>\n",
              "  </tbody>\n",
              "</table>\n",
              "</div>\n",
              "      <button class=\"colab-df-convert\" onclick=\"convertToInteractive('df-7ca6ee1b-faeb-467f-84d7-6323c1f9de6b')\"\n",
              "              title=\"Convert this dataframe to an interactive table.\"\n",
              "              style=\"display:none;\">\n",
              "        \n",
              "  <svg xmlns=\"http://www.w3.org/2000/svg\" height=\"24px\"viewBox=\"0 0 24 24\"\n",
              "       width=\"24px\">\n",
              "    <path d=\"M0 0h24v24H0V0z\" fill=\"none\"/>\n",
              "    <path d=\"M18.56 5.44l.94 2.06.94-2.06 2.06-.94-2.06-.94-.94-2.06-.94 2.06-2.06.94zm-11 1L8.5 8.5l.94-2.06 2.06-.94-2.06-.94L8.5 2.5l-.94 2.06-2.06.94zm10 10l.94 2.06.94-2.06 2.06-.94-2.06-.94-.94-2.06-.94 2.06-2.06.94z\"/><path d=\"M17.41 7.96l-1.37-1.37c-.4-.4-.92-.59-1.43-.59-.52 0-1.04.2-1.43.59L10.3 9.45l-7.72 7.72c-.78.78-.78 2.05 0 2.83L4 21.41c.39.39.9.59 1.41.59.51 0 1.02-.2 1.41-.59l7.78-7.78 2.81-2.81c.8-.78.8-2.07 0-2.86zM5.41 20L4 18.59l7.72-7.72 1.47 1.35L5.41 20z\"/>\n",
              "  </svg>\n",
              "      </button>\n",
              "      \n",
              "  <style>\n",
              "    .colab-df-container {\n",
              "      display:flex;\n",
              "      flex-wrap:wrap;\n",
              "      gap: 12px;\n",
              "    }\n",
              "\n",
              "    .colab-df-convert {\n",
              "      background-color: #E8F0FE;\n",
              "      border: none;\n",
              "      border-radius: 50%;\n",
              "      cursor: pointer;\n",
              "      display: none;\n",
              "      fill: #1967D2;\n",
              "      height: 32px;\n",
              "      padding: 0 0 0 0;\n",
              "      width: 32px;\n",
              "    }\n",
              "\n",
              "    .colab-df-convert:hover {\n",
              "      background-color: #E2EBFA;\n",
              "      box-shadow: 0px 1px 2px rgba(60, 64, 67, 0.3), 0px 1px 3px 1px rgba(60, 64, 67, 0.15);\n",
              "      fill: #174EA6;\n",
              "    }\n",
              "\n",
              "    [theme=dark] .colab-df-convert {\n",
              "      background-color: #3B4455;\n",
              "      fill: #D2E3FC;\n",
              "    }\n",
              "\n",
              "    [theme=dark] .colab-df-convert:hover {\n",
              "      background-color: #434B5C;\n",
              "      box-shadow: 0px 1px 3px 1px rgba(0, 0, 0, 0.15);\n",
              "      filter: drop-shadow(0px 1px 2px rgba(0, 0, 0, 0.3));\n",
              "      fill: #FFFFFF;\n",
              "    }\n",
              "  </style>\n",
              "\n",
              "      <script>\n",
              "        const buttonEl =\n",
              "          document.querySelector('#df-7ca6ee1b-faeb-467f-84d7-6323c1f9de6b button.colab-df-convert');\n",
              "        buttonEl.style.display =\n",
              "          google.colab.kernel.accessAllowed ? 'block' : 'none';\n",
              "\n",
              "        async function convertToInteractive(key) {\n",
              "          const element = document.querySelector('#df-7ca6ee1b-faeb-467f-84d7-6323c1f9de6b');\n",
              "          const dataTable =\n",
              "            await google.colab.kernel.invokeFunction('convertToInteractive',\n",
              "                                                     [key], {});\n",
              "          if (!dataTable) return;\n",
              "\n",
              "          const docLinkHtml = 'Like what you see? Visit the ' +\n",
              "            '<a target=\"_blank\" href=https://colab.research.google.com/notebooks/data_table.ipynb>data table notebook</a>'\n",
              "            + ' to learn more about interactive tables.';\n",
              "          element.innerHTML = '';\n",
              "          dataTable['output_type'] = 'display_data';\n",
              "          await google.colab.output.renderOutput(dataTable, element);\n",
              "          const docLink = document.createElement('div');\n",
              "          docLink.innerHTML = docLinkHtml;\n",
              "          element.appendChild(docLink);\n",
              "        }\n",
              "      </script>\n",
              "    </div>\n",
              "  </div>\n",
              "  "
            ]
          },
          "metadata": {},
          "execution_count": 31
        }
      ]
    },
    {
      "cell_type": "code",
      "source": [
        "# We can make NaN category value. At that time we can get a clean data. I used shift() method that is found Pandas library.\n",
        "\n",
        "main_data_1.loc[10472] = main_data_1.loc[10472].shift()\n",
        "main_data_1['App'].loc[10472] = main_data_1['Category'].loc[10472]\n",
        "main_data_1['Category'].loc[10472] = np.nan\n",
        "main_data_1.loc[10472]"
      ],
      "metadata": {
        "id": "qnBVPAP-4-xQ",
        "colab": {
          "base_uri": "https://localhost:8080/"
        },
        "outputId": "59a2c3f8-603b-4b97-e8d8-ecfaa512d158"
      },
      "execution_count": 32,
      "outputs": [
        {
          "output_type": "execute_result",
          "data": {
            "text/plain": [
              "App               Life Made WI-Fi Touchscreen Photo Frame\n",
              "Category                                              NaN\n",
              "Rating                                                1.9\n",
              "Reviews                                              19.0\n",
              "Size                                                 3.0M\n",
              "Installs                                           1,000+\n",
              "Type                                                 Free\n",
              "Price                                                   0\n",
              "Content Rating                                   Everyone\n",
              "Genres                                                NaN\n",
              "Last Updated                            February 11, 2018\n",
              "Current Ver                                        1.0.19\n",
              "Android Ver                                    4.0 and up\n",
              "Name: 10472, dtype: object"
            ]
          },
          "metadata": {},
          "execution_count": 32
        }
      ]
    },
    {
      "cell_type": "code",
      "source": [
        "# Rating\n",
        "main_data_1['Rating'].unique()"
      ],
      "metadata": {
        "id": "Mz6xc7Be4-sw",
        "colab": {
          "base_uri": "https://localhost:8080/"
        },
        "outputId": "727c0269-abe1-498a-bfee-f2f815d05e9b"
      },
      "execution_count": 33,
      "outputs": [
        {
          "output_type": "execute_result",
          "data": {
            "text/plain": [
              "array([4.1, 3.9, 4.7, 4.5, 4.3, 4.4, 3.8, 4.2, 4.6, 3.2, 4.0, 4.8, 4.9,\n",
              "       3.6, 3.7, 3.3, 3.4, 3.5, 3.1, 5.0, 2.6, 3.0, 1.9, 2.5, 2.8, 2.7,\n",
              "       1.0, 2.9, 2.3, 2.2, 1.7, 2.0, 1.8, 2.4, 1.6, 2.1, 1.4, 1.5, 1.2,\n",
              "       '1.9'], dtype=object)"
            ]
          },
          "metadata": {},
          "execution_count": 33
        }
      ]
    },
    {
      "cell_type": "code",
      "source": [
        "#Data type of Rating is object. If we convert from string to numeric, we can make easy.\n",
        "\n",
        "main_data_1['Rating'] = pd.to_numeric(main_data_1['Rating'], errors='coerce')\n",
        "main_data_1['Rating'].dtype"
      ],
      "metadata": {
        "id": "aBmP_TIY4-os",
        "colab": {
          "base_uri": "https://localhost:8080/"
        },
        "outputId": "3bc4df3a-c66d-493a-ca8a-3984ab5760b1"
      },
      "execution_count": 34,
      "outputs": [
        {
          "output_type": "execute_result",
          "data": {
            "text/plain": [
              "dtype('float64')"
            ]
          },
          "metadata": {},
          "execution_count": 34
        }
      ]
    },
    {
      "cell_type": "code",
      "source": [
        "# Review\n",
        "main_data_1['Reviews'].unique()"
      ],
      "metadata": {
        "id": "CGKOeIrQ4-lV",
        "colab": {
          "base_uri": "https://localhost:8080/"
        },
        "outputId": "b3d8f9ff-dbe9-4ad8-e753-f3e13ec10aa0"
      },
      "execution_count": 35,
      "outputs": [
        {
          "output_type": "execute_result",
          "data": {
            "text/plain": [
              "array(['159', '967', '87510', ..., '603', '1195', '398307'], dtype=object)"
            ]
          },
          "metadata": {},
          "execution_count": 35
        }
      ]
    },
    {
      "cell_type": "code",
      "source": [
        "main_data_1['Reviews'] = main_data_1.Reviews.replace(\"0.0\",0)\n",
        "main_data_1['Reviews'] = main_data_1.Reviews.replace(\"3.0M\",3000000.0)\n",
        "main_data_1['Reviews'] = main_data_1['Reviews'].astype(float)\n",
        "main_data_1['Reviews'].dtype"
      ],
      "metadata": {
        "id": "M7BkPmCg4-h6",
        "colab": {
          "base_uri": "https://localhost:8080/"
        },
        "outputId": "305c0ea4-0595-471f-8c3c-91d1c6e97908"
      },
      "execution_count": 36,
      "outputs": [
        {
          "output_type": "execute_result",
          "data": {
            "text/plain": [
              "dtype('float64')"
            ]
          },
          "metadata": {},
          "execution_count": 36
        }
      ]
    },
    {
      "cell_type": "code",
      "source": [
        "# Size\n",
        "main_data_1['Size'].unique()\n"
      ],
      "metadata": {
        "id": "xiYGUPw54-bF",
        "colab": {
          "base_uri": "https://localhost:8080/"
        },
        "outputId": "c78fefdf-2034-4a1b-81de-b10328ff27fb"
      },
      "execution_count": 37,
      "outputs": [
        {
          "output_type": "execute_result",
          "data": {
            "text/plain": [
              "array(['19M', '14M', '8.7M', '25M', '2.8M', '5.6M', '29M', '33M', '3.1M',\n",
              "       '28M', '12M', '20M', '21M', '37M', '2.7M', '5.5M', '17M', '39M',\n",
              "       '31M', '4.2M', '7.0M', '23M', '6.0M', '6.1M', '4.6M', '9.2M',\n",
              "       '5.2M', '11M', '24M', 'Varies with device', '9.4M', '15M', '10M',\n",
              "       '1.2M', '26M', '8.0M', '7.9M', '56M', '57M', '35M', '54M', '201k',\n",
              "       '3.6M', '5.7M', '8.6M', '2.4M', '27M', '2.5M', '16M', '3.4M',\n",
              "       '8.9M', '3.9M', '2.9M', '38M', '32M', '5.4M', '18M', '1.1M',\n",
              "       '2.2M', '4.5M', '9.8M', '52M', '9.0M', '6.7M', '30M', '2.6M',\n",
              "       '7.1M', '3.7M', '22M', '7.4M', '6.4M', '3.2M', '8.2M', '9.9M',\n",
              "       '4.9M', '9.5M', '5.0M', '5.9M', '13M', '73M', '6.8M', '3.5M',\n",
              "       '4.0M', '2.3M', '7.2M', '2.1M', '42M', '7.3M', '9.1M', '55M',\n",
              "       '23k', '6.5M', '1.5M', '7.5M', '51M', '41M', '48M', '8.5M', '46M',\n",
              "       '8.3M', '4.3M', '4.7M', '3.3M', '40M', '7.8M', '8.8M', '6.6M',\n",
              "       '5.1M', '61M', '66M', '79k', '8.4M', '118k', '44M', '695k', '1.6M',\n",
              "       '6.2M', '18k', '53M', '1.4M', '3.0M', '5.8M', '3.8M', '9.6M',\n",
              "       '45M', '63M', '49M', '77M', '4.4M', '4.8M', '70M', '6.9M', '9.3M',\n",
              "       '10.0M', '8.1M', '36M', '84M', '97M', '2.0M', '1.9M', '1.8M',\n",
              "       '5.3M', '47M', '556k', '526k', '76M', '7.6M', '59M', '9.7M', '78M',\n",
              "       '72M', '43M', '7.7M', '6.3M', '334k', '34M', '93M', '65M', '79M',\n",
              "       '100M', '58M', '50M', '68M', '64M', '67M', '60M', '94M', '232k',\n",
              "       '99M', '624k', '95M', '8.5k', '41k', '292k', '11k', '80M', '1.7M',\n",
              "       '74M', '62M', '69M', '75M', '98M', '85M', '82M', '96M', '87M',\n",
              "       '71M', '86M', '91M', '81M', '92M', '83M', '88M', '704k', '862k',\n",
              "       '899k', '378k', '266k', '375k', '1.3M', '975k', '980k', '4.1M',\n",
              "       '89M', '696k', '544k', '525k', '920k', '779k', '853k', '720k',\n",
              "       '713k', '772k', '318k', '58k', '241k', '196k', '857k', '51k',\n",
              "       '953k', '865k', '251k', '930k', '540k', '313k', '746k', '203k',\n",
              "       '26k', '314k', '239k', '371k', '220k', '730k', '756k', '91k',\n",
              "       '293k', '17k', '74k', '14k', '317k', '78k', '924k', '902k', '818k',\n",
              "       '81k', '939k', '169k', '45k', '475k', '965k', '90M', '545k', '61k',\n",
              "       '283k', '655k', '714k', '93k', '872k', '121k', '322k', '1.0M',\n",
              "       '976k', '172k', '238k', '549k', '206k', '954k', '444k', '717k',\n",
              "       '210k', '609k', '308k', '705k', '306k', '904k', '473k', '175k',\n",
              "       '350k', '383k', '454k', '421k', '70k', '812k', '442k', '842k',\n",
              "       '417k', '412k', '459k', '478k', '335k', '782k', '721k', '430k',\n",
              "       '429k', '192k', '200k', '460k', '728k', '496k', '816k', '414k',\n",
              "       '506k', '887k', '613k', '243k', '569k', '778k', '683k', '592k',\n",
              "       '319k', '186k', '840k', '647k', '191k', '373k', '437k', '598k',\n",
              "       '716k', '585k', '982k', '222k', '219k', '55k', '948k', '323k',\n",
              "       '691k', '511k', '951k', '963k', '25k', '554k', '351k', '27k',\n",
              "       '82k', '208k', '913k', '514k', '551k', '29k', '103k', '898k',\n",
              "       '743k', '116k', '153k', '209k', '353k', '499k', '173k', '597k',\n",
              "       '809k', '122k', '411k', '400k', '801k', '787k', '237k', '50k',\n",
              "       '643k', '986k', '97k', '516k', '837k', '780k', '961k', '269k',\n",
              "       '20k', '498k', '600k', '749k', '642k', '881k', '72k', '656k',\n",
              "       '601k', '221k', '228k', '108k', '940k', '176k', '33k', '663k',\n",
              "       '34k', '942k', '259k', '164k', '458k', '245k', '629k', '28k',\n",
              "       '288k', '775k', '785k', '636k', '916k', '994k', '309k', '485k',\n",
              "       '914k', '903k', '608k', '500k', '54k', '562k', '847k', '957k',\n",
              "       '688k', '811k', '270k', '48k', '329k', '523k', '921k', '874k',\n",
              "       '981k', '784k', '280k', '24k', '518k', '754k', '892k', '154k',\n",
              "       '860k', '364k', '387k', '626k', '161k', '879k', '39k', '970k',\n",
              "       '170k', '141k', '160k', '144k', '143k', '190k', '376k', '193k',\n",
              "       '246k', '73k', '658k', '992k', '253k', '420k', '404k', '470k',\n",
              "       '226k', '240k', '89k', '234k', '257k', '861k', '467k', '157k',\n",
              "       '44k', '676k', '67k', '552k', '885k', '1020k', '582k', '619k'],\n",
              "      dtype=object)"
            ]
          },
          "metadata": {},
          "execution_count": 37
        }
      ]
    },
    {
      "cell_type": "code",
      "source": [
        "# Data type of Size is object. I had to convert the column because it contains the application sizes. Firstly I changed 'Varies with device' value with Nan.\n",
        "# After, I dropped 'M' and 'k'. I changed from '1000+' to 1000. Finally, I converted float value.\n",
        "main_data_1['Size'] = main_data_1.Size.replace(\"Varies with device\",np.nan)\n",
        "main_data_1['Size'] = main_data_1.Size.str.replace(\"M\",\"000\") # All size values became the kilobyte type.\n",
        "main_data_1['Size'] = main_data_1.Size.str.replace(\"k\",\"\")\n",
        "main_data_1['Size'] = main_data_1.Size.replace(\"1,000+\",1000)\n",
        "main_data_1['Size'] =main_data_1['Size'].astype(float)\n",
        "main_data_1['Size'].dtype"
      ],
      "metadata": {
        "id": "uTpr8hYR4-Rz",
        "colab": {
          "base_uri": "https://localhost:8080/"
        },
        "outputId": "33628afd-d116-49c3-dda7-3c059ef68d0f"
      },
      "execution_count": 38,
      "outputs": [
        {
          "output_type": "execute_result",
          "data": {
            "text/plain": [
              "dtype('float64')"
            ]
          },
          "metadata": {},
          "execution_count": 38
        }
      ]
    },
    {
      "cell_type": "code",
      "source": [
        "#Installs\n",
        "main_data_1['Installs'].unique()\n"
      ],
      "metadata": {
        "id": "lysEbc9R6BMb",
        "colab": {
          "base_uri": "https://localhost:8080/"
        },
        "outputId": "bf722635-61df-4474-feb1-aed232d877a8"
      },
      "execution_count": 39,
      "outputs": [
        {
          "output_type": "execute_result",
          "data": {
            "text/plain": [
              "array(['10,000+', '500,000+', '5,000,000+', '50,000,000+', '100,000+',\n",
              "       '50,000+', '1,000,000+', '10,000,000+', '5,000+', '100,000,000+',\n",
              "       '1,000,000,000+', '1,000+', '500,000,000+', '50+', '100+', '500+',\n",
              "       '10+', '1+', '5+', '0+', '0'], dtype=object)"
            ]
          },
          "metadata": {},
          "execution_count": 39
        }
      ]
    },
    {
      "cell_type": "code",
      "source": [
        "# Data type of Size is object. I'm gonna make similar processes, which I made the in 'Size'.\n",
        "\n",
        "main_data_1['Installs'] = main_data_1.Installs.str.replace(\",\",\"\")\n",
        "main_data_1['Installs'] = main_data_1.Installs.str.replace(\"+\",\"\")\n",
        "main_data_1['Installs'] = main_data_1.Installs.replace(\"Free\",np.nan)\n",
        "main_data_1['Installs'] = main_data_1['Installs'].astype(float)\n",
        "main_data_1['Installs'].dtype"
      ],
      "metadata": {
        "id": "2lwSbyYx6BAr",
        "colab": {
          "base_uri": "https://localhost:8080/"
        },
        "outputId": "3779b44f-08b3-4487-c38f-b4fcb4ecfb5b"
      },
      "execution_count": 40,
      "outputs": [
        {
          "output_type": "execute_result",
          "data": {
            "text/plain": [
              "dtype('float64')"
            ]
          },
          "metadata": {},
          "execution_count": 40
        }
      ]
    },
    {
      "cell_type": "code",
      "source": [
        "# Price\n",
        "main_data_1['Price'].unique()"
      ],
      "metadata": {
        "id": "IVnk7aXr6VJL",
        "colab": {
          "base_uri": "https://localhost:8080/"
        },
        "outputId": "19fb1601-6b03-4453-dbbd-8efc88531b15"
      },
      "execution_count": 41,
      "outputs": [
        {
          "output_type": "execute_result",
          "data": {
            "text/plain": [
              "array(['0', '$4.99', '$3.99', '$6.99', '$1.49', '$2.99', '$7.99', '$5.99',\n",
              "       '$3.49', '$1.99', '$9.99', '$7.49', '$0.99', '$9.00', '$5.49',\n",
              "       '$10.00', '$24.99', '$11.99', '$79.99', '$16.99', '$14.99',\n",
              "       '$1.00', '$29.99', '$12.99', '$2.49', '$10.99', '$1.50', '$19.99',\n",
              "       '$15.99', '$33.99', '$74.99', '$39.99', '$3.95', '$4.49', '$1.70',\n",
              "       '$8.99', '$2.00', '$3.88', '$25.99', '$399.99', '$17.99',\n",
              "       '$400.00', '$3.02', '$1.76', '$4.84', '$4.77', '$1.61', '$2.50',\n",
              "       '$1.59', '$6.49', '$1.29', '$5.00', '$13.99', '$299.99', '$379.99',\n",
              "       '$37.99', '$18.99', '$389.99', '$19.90', '$8.49', '$1.75',\n",
              "       '$14.00', '$4.85', '$46.99', '$109.99', '$154.99', '$3.08',\n",
              "       '$2.59', '$4.80', '$1.96', '$19.40', '$3.90', '$4.59', '$15.46',\n",
              "       '$3.04', '$4.29', '$2.60', '$3.28', '$4.60', '$28.99', '$2.95',\n",
              "       '$2.90', '$1.97', '$200.00', '$89.99', '$2.56', '$30.99', '$3.61',\n",
              "       '$394.99', '$1.26', '$1.20', '$1.04'], dtype=object)"
            ]
          },
          "metadata": {},
          "execution_count": 41
        }
      ]
    },
    {
      "cell_type": "code",
      "source": [
        "# Data type of Price is object. I have made similar processes, which I made the in 'Size'.\n",
        "main_data_1['Price'] = main_data_1.Price.replace(\"Everyone\",np.nan)\n",
        "main_data_1['Price'] = main_data_1.Price.str.replace(\"$\",\"\").astype(float)\n",
        "main_data_1['Price'].dtype"
      ],
      "metadata": {
        "id": "hhmsqvkd6U8Y",
        "colab": {
          "base_uri": "https://localhost:8080/"
        },
        "outputId": "e3979e0f-9e3c-4400-8a89-0d2dd93526fc"
      },
      "execution_count": 42,
      "outputs": [
        {
          "output_type": "execute_result",
          "data": {
            "text/plain": [
              "dtype('float64')"
            ]
          },
          "metadata": {},
          "execution_count": 42
        }
      ]
    },
    {
      "cell_type": "code",
      "source": [
        "# Last Update\n",
        "main_data_1['Last Updated'].unique()"
      ],
      "metadata": {
        "id": "HJmsno_i6uO_",
        "colab": {
          "base_uri": "https://localhost:8080/"
        },
        "outputId": "8d9182bb-1fc2-4dfc-bf7f-2d662306d554"
      },
      "execution_count": 43,
      "outputs": [
        {
          "output_type": "execute_result",
          "data": {
            "text/plain": [
              "array(['January 7, 2018', 'January 15, 2018', 'August 1, 2018', ...,\n",
              "       'January 20, 2014', 'February 16, 2014', 'March 23, 2014'],\n",
              "      dtype=object)"
            ]
          },
          "metadata": {},
          "execution_count": 43
        }
      ]
    },
    {
      "cell_type": "code",
      "source": [
        "# Data type of Last Uptated is object. I converted from string to date type.\n",
        "main_data_1['Last Updated'] = pd.to_datetime(main_data_1['Last Updated'])\n",
        "main_data_1['Last Updated']"
      ],
      "metadata": {
        "id": "EKwILyML6t-3",
        "colab": {
          "base_uri": "https://localhost:8080/"
        },
        "outputId": "dfa19402-8621-4564-ce83-5948cbd093e2"
      },
      "execution_count": 44,
      "outputs": [
        {
          "output_type": "execute_result",
          "data": {
            "text/plain": [
              "0       2018-01-07\n",
              "1       2018-01-15\n",
              "2       2018-08-01\n",
              "3       2018-06-08\n",
              "4       2018-06-20\n",
              "           ...    \n",
              "10836   2017-07-25\n",
              "10837   2018-07-06\n",
              "10838   2017-01-20\n",
              "10839   2015-01-19\n",
              "10840   2018-07-25\n",
              "Name: Last Updated, Length: 10358, dtype: datetime64[ns]"
            ]
          },
          "metadata": {},
          "execution_count": 44
        }
      ]
    },
    {
      "cell_type": "code",
      "execution_count": 45,
      "metadata": {
        "id": "wk-9a2fpoLcV",
        "colab": {
          "base_uri": "https://localhost:8080/"
        },
        "outputId": "7d9e80cf-d9b9-4afe-b6ef-492e17452aa9"
      },
      "outputs": [
        {
          "output_type": "execute_result",
          "data": {
            "text/plain": [
              "App                       0\n",
              "Translated_Review         0\n",
              "Sentiment                 0\n",
              "Sentiment_Polarity        0\n",
              "Sentiment_Subjectivity    0\n",
              "dtype: int64"
            ]
          },
          "metadata": {},
          "execution_count": 45
        }
      ],
      "source": [
        "# Write your code to make your dataset analysis ready.\n",
        "#dropped the rows having all null values\n",
        "df_user_review1 = df_user_review.dropna(subset=[\"Translated_Review\"],how=\"all\")\n",
        "df_user_review1.isnull().sum()"
      ]
    },
    {
      "cell_type": "code",
      "source": [
        "df_user_review1.info()"
      ],
      "metadata": {
        "id": "GZazJG79vj3n",
        "colab": {
          "base_uri": "https://localhost:8080/"
        },
        "outputId": "6412872f-bebc-4039-835c-278addff1746"
      },
      "execution_count": 46,
      "outputs": [
        {
          "output_type": "stream",
          "name": "stdout",
          "text": [
            "<class 'pandas.core.frame.DataFrame'>\n",
            "Int64Index: 37427 entries, 0 to 64230\n",
            "Data columns (total 5 columns):\n",
            " #   Column                  Non-Null Count  Dtype  \n",
            "---  ------                  --------------  -----  \n",
            " 0   App                     37427 non-null  object \n",
            " 1   Translated_Review       37427 non-null  object \n",
            " 2   Sentiment               37427 non-null  object \n",
            " 3   Sentiment_Polarity      37427 non-null  float64\n",
            " 4   Sentiment_Subjectivity  37427 non-null  float64\n",
            "dtypes: float64(2), object(3)\n",
            "memory usage: 1.7+ MB\n"
          ]
        }
      ]
    },
    {
      "cell_type": "code",
      "source": [
        "df_user_review1.describe()"
      ],
      "metadata": {
        "id": "r9rIeib2xAOK",
        "colab": {
          "base_uri": "https://localhost:8080/",
          "height": 0
        },
        "outputId": "116b9822-0f83-495e-fa63-5fa46cf6fc7f"
      },
      "execution_count": 47,
      "outputs": [
        {
          "output_type": "execute_result",
          "data": {
            "text/plain": [
              "       Sentiment_Polarity  Sentiment_Subjectivity\n",
              "count        37427.000000            37427.000000\n",
              "mean             0.182171                0.492770\n",
              "std              0.351318                0.259904\n",
              "min             -1.000000                0.000000\n",
              "25%              0.000000                0.357143\n",
              "50%              0.150000                0.514286\n",
              "75%              0.400000                0.650000\n",
              "max              1.000000                1.000000"
            ],
            "text/html": [
              "\n",
              "  <div id=\"df-31c9266e-cbb8-4dba-b9af-6a2d6cdf1bac\">\n",
              "    <div class=\"colab-df-container\">\n",
              "      <div>\n",
              "<style scoped>\n",
              "    .dataframe tbody tr th:only-of-type {\n",
              "        vertical-align: middle;\n",
              "    }\n",
              "\n",
              "    .dataframe tbody tr th {\n",
              "        vertical-align: top;\n",
              "    }\n",
              "\n",
              "    .dataframe thead th {\n",
              "        text-align: right;\n",
              "    }\n",
              "</style>\n",
              "<table border=\"1\" class=\"dataframe\">\n",
              "  <thead>\n",
              "    <tr style=\"text-align: right;\">\n",
              "      <th></th>\n",
              "      <th>Sentiment_Polarity</th>\n",
              "      <th>Sentiment_Subjectivity</th>\n",
              "    </tr>\n",
              "  </thead>\n",
              "  <tbody>\n",
              "    <tr>\n",
              "      <th>count</th>\n",
              "      <td>37427.000000</td>\n",
              "      <td>37427.000000</td>\n",
              "    </tr>\n",
              "    <tr>\n",
              "      <th>mean</th>\n",
              "      <td>0.182171</td>\n",
              "      <td>0.492770</td>\n",
              "    </tr>\n",
              "    <tr>\n",
              "      <th>std</th>\n",
              "      <td>0.351318</td>\n",
              "      <td>0.259904</td>\n",
              "    </tr>\n",
              "    <tr>\n",
              "      <th>min</th>\n",
              "      <td>-1.000000</td>\n",
              "      <td>0.000000</td>\n",
              "    </tr>\n",
              "    <tr>\n",
              "      <th>25%</th>\n",
              "      <td>0.000000</td>\n",
              "      <td>0.357143</td>\n",
              "    </tr>\n",
              "    <tr>\n",
              "      <th>50%</th>\n",
              "      <td>0.150000</td>\n",
              "      <td>0.514286</td>\n",
              "    </tr>\n",
              "    <tr>\n",
              "      <th>75%</th>\n",
              "      <td>0.400000</td>\n",
              "      <td>0.650000</td>\n",
              "    </tr>\n",
              "    <tr>\n",
              "      <th>max</th>\n",
              "      <td>1.000000</td>\n",
              "      <td>1.000000</td>\n",
              "    </tr>\n",
              "  </tbody>\n",
              "</table>\n",
              "</div>\n",
              "      <button class=\"colab-df-convert\" onclick=\"convertToInteractive('df-31c9266e-cbb8-4dba-b9af-6a2d6cdf1bac')\"\n",
              "              title=\"Convert this dataframe to an interactive table.\"\n",
              "              style=\"display:none;\">\n",
              "        \n",
              "  <svg xmlns=\"http://www.w3.org/2000/svg\" height=\"24px\"viewBox=\"0 0 24 24\"\n",
              "       width=\"24px\">\n",
              "    <path d=\"M0 0h24v24H0V0z\" fill=\"none\"/>\n",
              "    <path d=\"M18.56 5.44l.94 2.06.94-2.06 2.06-.94-2.06-.94-.94-2.06-.94 2.06-2.06.94zm-11 1L8.5 8.5l.94-2.06 2.06-.94-2.06-.94L8.5 2.5l-.94 2.06-2.06.94zm10 10l.94 2.06.94-2.06 2.06-.94-2.06-.94-.94-2.06-.94 2.06-2.06.94z\"/><path d=\"M17.41 7.96l-1.37-1.37c-.4-.4-.92-.59-1.43-.59-.52 0-1.04.2-1.43.59L10.3 9.45l-7.72 7.72c-.78.78-.78 2.05 0 2.83L4 21.41c.39.39.9.59 1.41.59.51 0 1.02-.2 1.41-.59l7.78-7.78 2.81-2.81c.8-.78.8-2.07 0-2.86zM5.41 20L4 18.59l7.72-7.72 1.47 1.35L5.41 20z\"/>\n",
              "  </svg>\n",
              "      </button>\n",
              "      \n",
              "  <style>\n",
              "    .colab-df-container {\n",
              "      display:flex;\n",
              "      flex-wrap:wrap;\n",
              "      gap: 12px;\n",
              "    }\n",
              "\n",
              "    .colab-df-convert {\n",
              "      background-color: #E8F0FE;\n",
              "      border: none;\n",
              "      border-radius: 50%;\n",
              "      cursor: pointer;\n",
              "      display: none;\n",
              "      fill: #1967D2;\n",
              "      height: 32px;\n",
              "      padding: 0 0 0 0;\n",
              "      width: 32px;\n",
              "    }\n",
              "\n",
              "    .colab-df-convert:hover {\n",
              "      background-color: #E2EBFA;\n",
              "      box-shadow: 0px 1px 2px rgba(60, 64, 67, 0.3), 0px 1px 3px 1px rgba(60, 64, 67, 0.15);\n",
              "      fill: #174EA6;\n",
              "    }\n",
              "\n",
              "    [theme=dark] .colab-df-convert {\n",
              "      background-color: #3B4455;\n",
              "      fill: #D2E3FC;\n",
              "    }\n",
              "\n",
              "    [theme=dark] .colab-df-convert:hover {\n",
              "      background-color: #434B5C;\n",
              "      box-shadow: 0px 1px 3px 1px rgba(0, 0, 0, 0.15);\n",
              "      filter: drop-shadow(0px 1px 2px rgba(0, 0, 0, 0.3));\n",
              "      fill: #FFFFFF;\n",
              "    }\n",
              "  </style>\n",
              "\n",
              "      <script>\n",
              "        const buttonEl =\n",
              "          document.querySelector('#df-31c9266e-cbb8-4dba-b9af-6a2d6cdf1bac button.colab-df-convert');\n",
              "        buttonEl.style.display =\n",
              "          google.colab.kernel.accessAllowed ? 'block' : 'none';\n",
              "\n",
              "        async function convertToInteractive(key) {\n",
              "          const element = document.querySelector('#df-31c9266e-cbb8-4dba-b9af-6a2d6cdf1bac');\n",
              "          const dataTable =\n",
              "            await google.colab.kernel.invokeFunction('convertToInteractive',\n",
              "                                                     [key], {});\n",
              "          if (!dataTable) return;\n",
              "\n",
              "          const docLinkHtml = 'Like what you see? Visit the ' +\n",
              "            '<a target=\"_blank\" href=https://colab.research.google.com/notebooks/data_table.ipynb>data table notebook</a>'\n",
              "            + ' to learn more about interactive tables.';\n",
              "          element.innerHTML = '';\n",
              "          dataTable['output_type'] = 'display_data';\n",
              "          await google.colab.output.renderOutput(dataTable, element);\n",
              "          const docLink = document.createElement('div');\n",
              "          docLink.innerHTML = docLinkHtml;\n",
              "          element.appendChild(docLink);\n",
              "        }\n",
              "      </script>\n",
              "    </div>\n",
              "  </div>\n",
              "  "
            ]
          },
          "metadata": {},
          "execution_count": 47
        }
      ]
    },
    {
      "cell_type": "code",
      "source": [
        "main_data_1.info()"
      ],
      "metadata": {
        "id": "RnGuC0FTxagh",
        "colab": {
          "base_uri": "https://localhost:8080/"
        },
        "outputId": "9b53b9cf-201b-4047-eba8-f13de5773262"
      },
      "execution_count": 48,
      "outputs": [
        {
          "output_type": "stream",
          "name": "stdout",
          "text": [
            "<class 'pandas.core.frame.DataFrame'>\n",
            "Int64Index: 10358 entries, 0 to 10840\n",
            "Data columns (total 13 columns):\n",
            " #   Column          Non-Null Count  Dtype         \n",
            "---  ------          --------------  -----         \n",
            " 0   App             10358 non-null  object        \n",
            " 1   Category        10357 non-null  object        \n",
            " 2   Rating          10358 non-null  float64       \n",
            " 3   Reviews         10358 non-null  float64       \n",
            " 4   Size            8832 non-null   float64       \n",
            " 5   Installs        10358 non-null  float64       \n",
            " 6   Type            10358 non-null  object        \n",
            " 7   Price           10358 non-null  float64       \n",
            " 8   Content Rating  10358 non-null  object        \n",
            " 9   Genres          10357 non-null  object        \n",
            " 10  Last Updated    10358 non-null  datetime64[ns]\n",
            " 11  Current Ver     10358 non-null  object        \n",
            " 12  Android Ver     10358 non-null  object        \n",
            "dtypes: datetime64[ns](1), float64(5), object(7)\n",
            "memory usage: 1.4+ MB\n"
          ]
        }
      ]
    },
    {
      "cell_type": "markdown",
      "metadata": {
        "id": "MSa1f5Uengrz"
      },
      "source": [
        "### What all manipulations have you done and insights you found?"
      ]
    },
    {
      "cell_type": "markdown",
      "metadata": {
        "id": "LbyXE7I1olp8"
      },
      "source": [
        "Answer Here."
      ]
    },
    {
      "cell_type": "markdown",
      "metadata": {
        "id": "GF8Ens_Soomf"
      },
      "source": [
        "## ***4. Data Vizualization, Storytelling & Experimenting with charts : Understand the relationships between variables***"
      ]
    },
    {
      "cell_type": "markdown",
      "metadata": {
        "id": "0wOQAZs5pc--"
      },
      "source": [
        "#### Chart - 1"
      ]
    },
    {
      "cell_type": "code",
      "execution_count": 49,
      "metadata": {
        "id": "7v_ESjsspbW7",
        "colab": {
          "base_uri": "https://localhost:8080/",
          "height": 965
        },
        "outputId": "8e78bcbc-cb19-485a-b249-687fc9f3b5d6"
      },
      "outputs": [
        {
          "output_type": "error",
          "ename": "TypeError",
          "evalue": "ignored",
          "traceback": [
            "\u001b[0;31m---------------------------------------------------------------------------\u001b[0m",
            "\u001b[0;31mTypeError\u001b[0m                                 Traceback (most recent call last)",
            "\u001b[0;32m<ipython-input-49-963e7f06075e>\u001b[0m in \u001b[0;36m<cell line: 9>\u001b[0;34m()\u001b[0m\n\u001b[1;32m      7\u001b[0m \u001b[0mplt\u001b[0m\u001b[0;34m.\u001b[0m\u001b[0mxlabel\u001b[0m\u001b[0;34m(\u001b[0m\u001b[0;34m\"Count\"\u001b[0m\u001b[0;34m)\u001b[0m\u001b[0;34m\u001b[0m\u001b[0;34m\u001b[0m\u001b[0m\n\u001b[1;32m      8\u001b[0m \u001b[0mplt\u001b[0m\u001b[0;34m.\u001b[0m\u001b[0mylabel\u001b[0m\u001b[0;34m(\u001b[0m\u001b[0;34m\"Category\"\u001b[0m\u001b[0;34m)\u001b[0m\u001b[0;34m\u001b[0m\u001b[0;34m\u001b[0m\u001b[0m\n\u001b[0;32m----> 9\u001b[0;31m \u001b[0mgraph\u001b[0m \u001b[0;34m=\u001b[0m \u001b[0msns\u001b[0m\u001b[0;34m.\u001b[0m\u001b[0mbarplot\u001b[0m\u001b[0;34m(\u001b[0m\u001b[0mx\u001b[0m\u001b[0;34m,\u001b[0m \u001b[0my\u001b[0m\u001b[0;34m)\u001b[0m\u001b[0;34m\u001b[0m\u001b[0;34m\u001b[0m\u001b[0m\n\u001b[0m\u001b[1;32m     10\u001b[0m \u001b[0mgraph\u001b[0m\u001b[0;34m.\u001b[0m\u001b[0mset_title\u001b[0m\u001b[0;34m(\u001b[0m\u001b[0;34m\"Top categories on Playstore\"\u001b[0m\u001b[0;34m,\u001b[0m \u001b[0mfontsize\u001b[0m \u001b[0;34m=\u001b[0m \u001b[0;36m20\u001b[0m\u001b[0;34m)\u001b[0m\u001b[0;34m;\u001b[0m\u001b[0;34m\u001b[0m\u001b[0;34m\u001b[0m\u001b[0m\n",
            "\u001b[0;31mTypeError\u001b[0m: barplot() takes from 0 to 1 positional arguments but 2 were given"
          ]
        },
        {
          "output_type": "display_data",
          "data": {
            "text/plain": [
              "<Figure size 1500x1000 with 1 Axes>"
            ],
            "image/png": "[encoded data removed]"
          },
          "metadata": {}
        }
      ],
      "source": [
        "# Chart - 1 visualization code\n",
        "#Top Categories Apps in Playstore\n",
        "plt.figure(figsize=(15,10))\n",
        "\n",
        "y = main_data_1['Category'].value_counts().index\n",
        "x = main_data_1['Category'].value_counts()\n",
        "plt.xlabel(\"Count\")\n",
        "plt.ylabel(\"Category\")\n",
        "graph = sns.barplot(x, y)\n",
        "graph.set_title(\"Top categories on Playstore\", fontsize = 20);"
      ]
    },
    {
      "cell_type": "markdown",
      "metadata": {
        "id": "K5QZ13OEpz2H"
      },
      "source": [
        "##### 1. Why did you pick the specific chart?"
      ]
    },
    {
      "cell_type": "code",
      "execution_count": null,
      "metadata": {
        "id": "n90KWls3Xyy2"
      },
      "outputs": [],
      "source": [
        "# The box plot organizes large amounts of data, and visualizes outlier values.\n",
        "# # before cleaning the dataset outlier value found from the above boxplot is at an index values of 10472.\n",
        "# which Rating is 19 but for our analysis rating varies from 1 to 5."
      ]
    },
    {
      "cell_type": "markdown",
      "metadata": {
        "id": "XESiWehPqBRc"
      },
      "source": [
        "Answer Here."
      ]
    },
    {
      "cell_type": "markdown",
      "metadata": {
        "id": "lQ7QKXXCp7Bj"
      },
      "source": [
        "##### 2. What is/are the insight(s) found from the chart?"
      ]
    },
    {
      "cell_type": "code",
      "execution_count": null,
      "metadata": {
        "id": "iTynKMk_YUsg"
      },
      "outputs": [],
      "source": [
        "\n",
        "# from the above chart most of the app is rating is between 4 to 4.5"
      ]
    },
    {
      "cell_type": "markdown",
      "metadata": {
        "id": "C_j1G7yiqdRP"
      },
      "source": [
        "Answer Here"
      ]
    },
    {
      "cell_type": "markdown",
      "metadata": {
        "id": "448CDAPjqfQr"
      },
      "source": [
        "##### 3. Will the gained insights help creating a positive business impact?\n",
        "Are there any insights that lead to negative growth? Justify with specific reason."
      ]
    },
    {
      "cell_type": "markdown",
      "metadata": {
        "id": "3cspy4FjqxJW"
      },
      "source": [
        "Answer Here"
      ]
    },
    {
      "cell_type": "markdown",
      "metadata": {
        "id": "KSlN3yHqYklG"
      },
      "source": [
        "#### Chart - 2"
      ]
    },
    {
      "cell_type": "code",
      "execution_count": null,
      "metadata": {
        "id": "R4YgtaqtYklH"
      },
      "outputs": [],
      "source": [
        "# Chart - 2 visualization code\n",
        "y = main_data_1['Genres'].value_counts().index\n",
        "x = main_data_1['Genres'].value_counts().head(10)\n",
        "xsisG = []\n",
        "ysisG = []\n",
        "for i in range(len(x)):\n",
        "    xsisG.append(x[i])\n",
        "    ysisG.append(y[i])\n",
        "\n",
        "plt.figure(figsize=(15,5))\n",
        "plt.xlabel(\"Count\")\n",
        "plt.ylabel(\"Geners\")\n",
        "\n",
        "graph = sns.barplot(x = xsisG, y = ysisG,)\n",
        "graph.set_title(\"Top Genres on Playstore\", fontsize = 20);"
      ]
    },
    {
      "cell_type": "markdown",
      "metadata": {
        "id": "t6dVpIINYklI"
      },
      "source": [
        "##### 1. Why did you pick the specific chart?"
      ]
    },
    {
      "cell_type": "markdown",
      "metadata": {
        "id": "5aaW0BYyYklI"
      },
      "source": [
        "Answer Here."
      ]
    },
    {
      "cell_type": "markdown",
      "metadata": {
        "id": "ijmpgYnKYklI"
      },
      "source": [
        "##### 2. What is/are the insight(s) found from the chart?"
      ]
    },
    {
      "cell_type": "markdown",
      "metadata": {
        "id": "PSx9atu2YklI"
      },
      "source": [
        "Answer Here"
      ]
    },
    {
      "cell_type": "markdown",
      "metadata": {
        "id": "-JiQyfWJYklI"
      },
      "source": [
        "##### 3. Will the gained insights help creating a positive business impact?\n",
        "Are there any insights that lead to negative growth? Justify with specific reason."
      ]
    },
    {
      "cell_type": "markdown",
      "metadata": {
        "id": "BcBbebzrYklV"
      },
      "source": [
        "Answer Here"
      ]
    },
    {
      "cell_type": "markdown",
      "metadata": {
        "id": "EM7whBJCYoAo"
      },
      "source": [
        "#### Chart - 3"
      ]
    },
    {
      "cell_type": "code",
      "execution_count": null,
      "metadata": {
        "id": "t6GMdE67YoAp"
      },
      "outputs": [],
      "source": [
        "# Chart - 3 visualization code Category and Reviews\n",
        "\n",
        "category_list = list(main_data_1['Category'].unique())\n",
        "category_review = []\n",
        "for i in category_list:\n",
        "    x = main_data_1[main_data_1['Category'] == i]\n",
        "    if(len(x)!=0):\n",
        "        review = sum(x.Reviews)/len(x)\n",
        "        category_review.append(review)\n",
        "    else:\n",
        "        review = sum(x.Reviews)\n",
        "        category_review.append(review)\n",
        "#sorting\n",
        "data_category_reviews = pd.DataFrame({'category': category_list,'review':category_review})\n",
        "new_index = (data_category_reviews['review'].sort_values(ascending=False)).index.values\n",
        "sorted_data =data_category_reviews.reindex(new_index)\n",
        "\n",
        "# visualization\n",
        "plt.figure(figsize=(15,10))\n",
        "sns.barplot(x=sorted_data['category'], y=sorted_data['review'])\n",
        "plt.xticks(rotation=80)\n",
        "plt.xlabel(\"Category\")\n",
        "plt.ylabel(\"Reviews\")\n",
        "plt.title(\"Category and Reviews\")\n",
        "plt.plot()"
      ]
    },
    {
      "cell_type": "markdown",
      "metadata": {
        "id": "fge-S5ZAYoAp"
      },
      "source": [
        "##### 1. Why did you pick the specific chart?"
      ]
    },
    {
      "cell_type": "markdown",
      "metadata": {
        "id": "5dBItgRVYoAp"
      },
      "source": [
        "Answer Here."
      ]
    },
    {
      "cell_type": "markdown",
      "metadata": {
        "id": "85gYPyotYoAp"
      },
      "source": [
        "##### 2. What is/are the insight(s) found from the chart?"
      ]
    },
    {
      "cell_type": "markdown",
      "metadata": {
        "id": "4jstXR6OYoAp"
      },
      "source": [
        "Answer Here"
      ]
    },
    {
      "cell_type": "markdown",
      "metadata": {
        "id": "RoGjAbkUYoAp"
      },
      "source": [
        "##### 3. Will the gained insights help creating a positive business impact?\n",
        "Are there any insights that lead to negative growth? Justify with specific reason."
      ]
    },
    {
      "cell_type": "markdown",
      "metadata": {
        "id": "zfJ8IqMcYoAp"
      },
      "source": [
        "Answer Here"
      ]
    },
    {
      "cell_type": "markdown",
      "metadata": {
        "id": "4Of9eVA-YrdM"
      },
      "source": [
        "#### Chart - 4"
      ]
    },
    {
      "cell_type": "code",
      "execution_count": null,
      "metadata": {
        "id": "irlUoxc8YrdO"
      },
      "outputs": [],
      "source": [
        "# Chart - 4 visualization code Category and Installs\n",
        "category_list = list(main_data_1['Category'].unique())\n",
        "category_install = []\n",
        "for i in category_list:\n",
        "    x = main_data_1[main_data_1['Category'] == i]\n",
        "    if(len(x)!=0):\n",
        "        install = sum(x.Installs)/len(x)\n",
        "        category_install.append(install)\n",
        "    else:\n",
        "        install = sum(x.Installs)\n",
        "        category_install.append(install)\n",
        "\n",
        "#sorting\n",
        "data_category_install = pd.DataFrame({'category': category_list,'install':category_install})\n",
        "new_index = (data_category_install['install'].sort_values(ascending=False)).index.values\n",
        "sorted_data =data_category_install.reindex(new_index)\n",
        "\n",
        "# visualization\n",
        "plt.figure(figsize=(15,10))\n",
        "sns.barplot(x=sorted_data['category'], y=sorted_data['install'])\n",
        "plt.xticks(rotation=80)\n",
        "plt.xlabel(\"Category\")\n",
        "plt.ylabel(\"Install\")\n",
        "plt.title(\"Category and Install\")\n",
        "plt.show()\n"
      ]
    },
    {
      "cell_type": "markdown",
      "metadata": {
        "id": "iky9q4vBYrdO"
      },
      "source": [
        "##### 1. Why did you pick the specific chart?"
      ]
    },
    {
      "cell_type": "markdown",
      "metadata": {
        "id": "aJRCwT6DYrdO"
      },
      "source": [
        "Answer Here."
      ]
    },
    {
      "cell_type": "markdown",
      "metadata": {
        "id": "F6T5p64dYrdO"
      },
      "source": [
        "##### 2. What is/are the insight(s) found from the chart?"
      ]
    },
    {
      "cell_type": "markdown",
      "metadata": {
        "id": "Xx8WAJvtYrdO"
      },
      "source": [
        "Answer Here"
      ]
    },
    {
      "cell_type": "markdown",
      "metadata": {
        "id": "y-Ehk30pYrdP"
      },
      "source": [
        "##### 3. Will the gained insights help creating a positive business impact?\n",
        "Are there any insights that lead to negative growth? Justify with specific reason."
      ]
    },
    {
      "cell_type": "markdown",
      "metadata": {
        "id": "jLNxxz7MYrdP"
      },
      "source": [
        "Answer Here"
      ]
    },
    {
      "cell_type": "markdown",
      "metadata": {
        "id": "bamQiAODYuh1"
      },
      "source": [
        "#### Chart - 5"
      ]
    },
    {
      "cell_type": "code",
      "execution_count": null,
      "metadata": {
        "id": "TIJwrbroYuh3"
      },
      "outputs": [],
      "source": [
        "# Chart - 5 visualization code Content Rating\n",
        "plt.figure(figsize=(10,7))\n",
        "sns.countplot(data=main_data_1, x='Content Rating')\n",
        "plt.xticks(rotation=80)\n",
        "plt.title('Content Rating',color = 'blue',fontsize=15)\n",
        "plt.show()"
      ]
    },
    {
      "cell_type": "markdown",
      "metadata": {
        "id": "QHF8YVU7Yuh3"
      },
      "source": [
        "##### 1. Why did you pick the specific chart?"
      ]
    },
    {
      "cell_type": "markdown",
      "metadata": {
        "id": "dcxuIMRPYuh3"
      },
      "source": [
        "Answer Here."
      ]
    },
    {
      "cell_type": "markdown",
      "metadata": {
        "id": "GwzvFGzlYuh3"
      },
      "source": [
        "##### 2. What is/are the insight(s) found from the chart?"
      ]
    },
    {
      "cell_type": "markdown",
      "metadata": {
        "id": "uyqkiB8YYuh3"
      },
      "source": [
        "Answer Here"
      ]
    },
    {
      "cell_type": "markdown",
      "metadata": {
        "id": "qYpmQ266Yuh3"
      },
      "source": [
        "##### 3. Will the gained insights help creating a positive business impact?\n",
        "Are there any insights that lead to negative growth? Justify with specific reason."
      ]
    },
    {
      "cell_type": "markdown",
      "metadata": {
        "id": "_WtzZ_hCYuh4"
      },
      "source": [
        "Answer Here"
      ]
    },
    {
      "cell_type": "markdown",
      "metadata": {
        "id": "OH-pJp9IphqM"
      },
      "source": [
        "#### Chart - 6"
      ]
    },
    {
      "cell_type": "code",
      "execution_count": null,
      "metadata": {
        "id": "kuRf4wtuphqN"
      },
      "outputs": [],
      "source": [
        "# Chart - 6 visualization code\n",
        "plt.figure(figsize=(15,5))\n",
        "plt.xlabel(\"Rating\")\n",
        "plt.ylabel(\"Frequency\")\n",
        "graph = sns.kdeplot(main_data_1.Rating, color=\"#4B0751\", shade = True)\n",
        "plt.title('Most Frequent Rating',size = 20);"
      ]
    },
    {
      "cell_type": "markdown",
      "metadata": {
        "id": "bbFf2-_FphqN"
      },
      "source": [
        "##### 1. Why did you pick the specific chart?"
      ]
    },
    {
      "cell_type": "markdown",
      "metadata": {
        "id": "loh7H2nzphqN"
      },
      "source": [
        "Answer Here."
      ]
    },
    {
      "cell_type": "markdown",
      "metadata": {
        "id": "_ouA3fa0phqN"
      },
      "source": [
        "##### 2. What is/are the insight(s) found from the chart?"
      ]
    },
    {
      "cell_type": "markdown",
      "metadata": {
        "id": "VECbqPI7phqN"
      },
      "source": [
        "Answer Here"
      ]
    },
    {
      "cell_type": "markdown",
      "metadata": {
        "id": "Seke61FWphqN"
      },
      "source": [
        "##### 3. Will the gained insights help creating a positive business impact?\n",
        "Are there any insights that lead to negative growth? Justify with specific reason."
      ]
    },
    {
      "cell_type": "markdown",
      "metadata": {
        "id": "DW4_bGpfphqN"
      },
      "source": [
        "Answer Here"
      ]
    },
    {
      "cell_type": "markdown",
      "metadata": {
        "id": "PIIx-8_IphqN"
      },
      "source": [
        "#### Chart - 7"
      ]
    },
    {
      "cell_type": "code",
      "execution_count": null,
      "metadata": {
        "id": "lqAIGUfyphqO"
      },
      "outputs": [],
      "source": [
        "# Chart - 7 visualization code\n",
        "# Paid and Free Apps Ratio From All Apps\n",
        "plt.figure(figsize=(15,10))\n",
        "x=main_data_1.Type.value_counts()\n",
        "label=[\"Free\",\"Paid\"]\n",
        "plt.pie(x,labels=label,autopct=\"%1.2f%%\",shadow=True, explode=[0,.21], startangle=45)\n",
        "plt.show()"
      ]
    },
    {
      "cell_type": "markdown",
      "metadata": {
        "id": "t27r6nlMphqO"
      },
      "source": [
        "##### 1. Why did you pick the specific chart?"
      ]
    },
    {
      "cell_type": "markdown",
      "metadata": {
        "id": "iv6ro40sphqO"
      },
      "source": [
        "Answer Here."
      ]
    },
    {
      "cell_type": "markdown",
      "metadata": {
        "id": "r2jJGEOYphqO"
      },
      "source": [
        "##### 2. What is/are the insight(s) found from the chart?"
      ]
    },
    {
      "cell_type": "markdown",
      "metadata": {
        "id": "Po6ZPi4hphqO"
      },
      "source": [
        "Answer Here"
      ]
    },
    {
      "cell_type": "markdown",
      "metadata": {
        "id": "b0JNsNcRphqO"
      },
      "source": [
        "##### 3. Will the gained insights help creating a positive business impact?\n",
        "Are there any insights that lead to negative growth? Justify with specific reason."
      ]
    },
    {
      "cell_type": "markdown",
      "metadata": {
        "id": "xvSq8iUTphqO"
      },
      "source": [
        "Answer Here"
      ]
    },
    {
      "cell_type": "markdown",
      "metadata": {
        "id": "BZR9WyysphqO"
      },
      "source": [
        "#### Chart - 8"
      ]
    },
    {
      "cell_type": "code",
      "source": [
        "main_data_1.columns"
      ],
      "metadata": {
        "id": "ytA9D17h5VrS"
      },
      "execution_count": null,
      "outputs": []
    },
    {
      "cell_type": "code",
      "execution_count": null,
      "metadata": {
        "id": "TdPTWpAVphqO"
      },
      "outputs": [],
      "source": [
        "# Chart - 8 visualization code\n",
        "# App Updatation Details By Year\n",
        "plt.figure(figsize=(15,5))\n",
        "plt.title(\"Apps updatation by years\", fontsize=20)\n",
        "ax = plt.hist(main_data_1.Last Updated, color=\"#4B0751\")\n",
        "plt.tick_params(left='on', bottom='on')\n",
        "plt.xlabel(\"Year\")\n",
        "plt.ylabel(\"Number of apps updated\");\n",
        "plt.show()"
      ]
    },
    {
      "cell_type": "markdown",
      "metadata": {
        "id": "jj7wYXLtphqO"
      },
      "source": [
        "##### 1. Why did you pick the specific chart?"
      ]
    },
    {
      "cell_type": "markdown",
      "metadata": {
        "id": "Ob8u6rCTphqO"
      },
      "source": [
        "Answer Here."
      ]
    },
    {
      "cell_type": "markdown",
      "metadata": {
        "id": "eZrbJ2SmphqO"
      },
      "source": [
        "##### 2. What is/are the insight(s) found from the chart?"
      ]
    },
    {
      "cell_type": "markdown",
      "metadata": {
        "id": "mZtgC_hjphqO"
      },
      "source": [
        "Answer Here"
      ]
    },
    {
      "cell_type": "markdown",
      "metadata": {
        "id": "rFu4xreNphqO"
      },
      "source": [
        "##### 3. Will the gained insights help creating a positive business impact?\n",
        "Are there any insights that lead to negative growth? Justify with specific reason."
      ]
    },
    {
      "cell_type": "markdown",
      "metadata": {
        "id": "ey_0qi68phqO"
      },
      "source": [
        "Answer Here"
      ]
    },
    {
      "cell_type": "markdown",
      "metadata": {
        "id": "YJ55k-q6phqO"
      },
      "source": [
        "#### Chart - 9"
      ]
    },
    {
      "cell_type": "code",
      "execution_count": null,
      "metadata": {
        "id": "B2aS4O1ophqO"
      },
      "outputs": [],
      "source": [
        "# Chart - 9 visualization code\n",
        "#marge both database for more analysis\n",
        "\n",
        "merged_df = main_data_1.merge(df_user_review1, on=\"App\")\n",
        "merged_df.info()"
      ]
    },
    {
      "cell_type": "code",
      "source": [
        "# Sentiment Data Across the All Reviews\n",
        "plt.figure(figsize=(15,10))\n",
        "pd.value_counts(df_user_review1[\"Sentiment\"]).plot(kind = 'pie',  autopct='%1.2f%%',shadow=True, explode=[0, 0.05, 0.05], startangle=45 )\n",
        "plt.title(\"Sentiment data across database\",size=20)\n",
        "plt.show()"
      ],
      "metadata": {
        "id": "GBMMrfqVmXyh"
      },
      "execution_count": null,
      "outputs": []
    },
    {
      "cell_type": "markdown",
      "metadata": {
        "id": "gCFgpxoyphqP"
      },
      "source": [
        "##### 1. Why did you pick the specific chart?"
      ]
    },
    {
      "cell_type": "markdown",
      "metadata": {
        "id": "TVxDimi2phqP"
      },
      "source": [
        "Answer Here."
      ]
    },
    {
      "cell_type": "markdown",
      "metadata": {
        "id": "OVtJsKN_phqQ"
      },
      "source": [
        "##### 2. What is/are the insight(s) found from the chart?"
      ]
    },
    {
      "cell_type": "markdown",
      "metadata": {
        "id": "ngGi97qjphqQ"
      },
      "source": [
        "Answer Here"
      ]
    },
    {
      "cell_type": "markdown",
      "metadata": {
        "id": "lssrdh5qphqQ"
      },
      "source": [
        "##### 3. Will the gained insights help creating a positive business impact?\n",
        "Are there any insights that lead to negative growth? Justify with specific reason."
      ]
    },
    {
      "cell_type": "markdown",
      "metadata": {
        "id": "tBpY5ekJphqQ"
      },
      "source": [
        "Answer Here"
      ]
    },
    {
      "cell_type": "markdown",
      "metadata": {
        "id": "U2RJ9gkRphqQ"
      },
      "source": [
        "#### Chart - 10"
      ]
    },
    {
      "cell_type": "code",
      "execution_count": null,
      "metadata": {
        "id": "GM7a4YP4phqQ"
      },
      "outputs": [],
      "source": [
        "# Chart - 10 visualization code"
      ]
    },
    {
      "cell_type": "markdown",
      "metadata": {
        "id": "1M8mcRywphqQ"
      },
      "source": [
        "##### 1. Why did you pick the specific chart?"
      ]
    },
    {
      "cell_type": "markdown",
      "metadata": {
        "id": "8agQvks0phqQ"
      },
      "source": [
        "Answer Here."
      ]
    },
    {
      "cell_type": "markdown",
      "metadata": {
        "id": "tgIPom80phqQ"
      },
      "source": [
        "##### 2. What is/are the insight(s) found from the chart?"
      ]
    },
    {
      "cell_type": "markdown",
      "metadata": {
        "id": "Qp13pnNzphqQ"
      },
      "source": [
        "Answer Here"
      ]
    },
    {
      "cell_type": "markdown",
      "metadata": {
        "id": "JMzcOPDDphqR"
      },
      "source": [
        "##### 3. Will the gained insights help creating a positive business impact?\n",
        "Are there any insights that lead to negative growth? Justify with specific reason."
      ]
    },
    {
      "cell_type": "markdown",
      "metadata": {
        "id": "R4Ka1PC2phqR"
      },
      "source": [
        "Answer Here"
      ]
    },
    {
      "cell_type": "markdown",
      "metadata": {
        "id": "x-EpHcCOp1ci"
      },
      "source": [
        "#### Chart - 11"
      ]
    },
    {
      "cell_type": "code",
      "execution_count": null,
      "metadata": {
        "id": "mAQTIvtqp1cj"
      },
      "outputs": [],
      "source": [
        "# Chart - 11 visualization code"
      ]
    },
    {
      "cell_type": "markdown",
      "metadata": {
        "id": "X_VqEhTip1ck"
      },
      "source": [
        "##### 1. Why did you pick the specific chart?"
      ]
    },
    {
      "cell_type": "markdown",
      "metadata": {
        "id": "-vsMzt_np1ck"
      },
      "source": [
        "Answer Here."
      ]
    },
    {
      "cell_type": "markdown",
      "metadata": {
        "id": "8zGJKyg5p1ck"
      },
      "source": [
        "##### 2. What is/are the insight(s) found from the chart?"
      ]
    },
    {
      "cell_type": "markdown",
      "metadata": {
        "id": "ZYdMsrqVp1ck"
      },
      "source": [
        "Answer Here"
      ]
    },
    {
      "cell_type": "markdown",
      "metadata": {
        "id": "PVzmfK_Ep1ck"
      },
      "source": [
        "##### 3. Will the gained insights help creating a positive business impact?\n",
        "Are there any insights that lead to negative growth? Justify with specific reason."
      ]
    },
    {
      "cell_type": "markdown",
      "metadata": {
        "id": "druuKYZpp1ck"
      },
      "source": [
        "Answer Here"
      ]
    },
    {
      "cell_type": "markdown",
      "metadata": {
        "id": "n3dbpmDWp1ck"
      },
      "source": [
        "#### Chart - 12"
      ]
    },
    {
      "cell_type": "code",
      "execution_count": null,
      "metadata": {
        "id": "bwevp1tKp1ck"
      },
      "outputs": [],
      "source": [
        "# Chart - 12 visualization code"
      ]
    },
    {
      "cell_type": "markdown",
      "metadata": {
        "id": "ylSl6qgtp1ck"
      },
      "source": [
        "##### 1. Why did you pick the specific chart?"
      ]
    },
    {
      "cell_type": "markdown",
      "metadata": {
        "id": "m2xqNkiQp1ck"
      },
      "source": [
        "Answer Here."
      ]
    },
    {
      "cell_type": "markdown",
      "metadata": {
        "id": "ZWILFDl5p1ck"
      },
      "source": [
        "##### 2. What is/are the insight(s) found from the chart?"
      ]
    },
    {
      "cell_type": "markdown",
      "metadata": {
        "id": "x-lUsV2mp1ck"
      },
      "source": [
        "Answer Here"
      ]
    },
    {
      "cell_type": "markdown",
      "metadata": {
        "id": "M7G43BXep1ck"
      },
      "source": [
        "##### 3. Will the gained insights help creating a positive business impact?\n",
        "Are there any insights that lead to negative growth? Justify with specific reason."
      ]
    },
    {
      "cell_type": "markdown",
      "metadata": {
        "id": "5wwDJXsLp1cl"
      },
      "source": [
        "Answer Here"
      ]
    },
    {
      "cell_type": "markdown",
      "metadata": {
        "id": "Ag9LCva-p1cl"
      },
      "source": [
        "#### Chart - 13"
      ]
    },
    {
      "cell_type": "code",
      "execution_count": null,
      "metadata": {
        "id": "EUfxeq9-p1cl"
      },
      "outputs": [],
      "source": [
        "# Chart - 13 visualization code"
      ]
    },
    {
      "cell_type": "markdown",
      "metadata": {
        "id": "E6MkPsBcp1cl"
      },
      "source": [
        "##### 1. Why did you pick the specific chart?"
      ]
    },
    {
      "cell_type": "markdown",
      "metadata": {
        "id": "V22bRsFWp1cl"
      },
      "source": [
        "Answer Here."
      ]
    },
    {
      "cell_type": "markdown",
      "metadata": {
        "id": "2cELzS2fp1cl"
      },
      "source": [
        "##### 2. What is/are the insight(s) found from the chart?"
      ]
    },
    {
      "cell_type": "markdown",
      "metadata": {
        "id": "ozQPc2_Ip1cl"
      },
      "source": [
        "Answer Here"
      ]
    },
    {
      "cell_type": "markdown",
      "metadata": {
        "id": "3MPXvC8up1cl"
      },
      "source": [
        "##### 3. Will the gained insights help creating a positive business impact?\n",
        "Are there any insights that lead to negative growth? Justify with specific reason."
      ]
    },
    {
      "cell_type": "markdown",
      "metadata": {
        "id": "GL8l1tdLp1cl"
      },
      "source": [
        "Answer Here"
      ]
    },
    {
      "cell_type": "markdown",
      "metadata": {
        "id": "NC_X3p0fY2L0"
      },
      "source": [
        "#### Chart - 14 - Correlation Heatmap"
      ]
    },
    {
      "cell_type": "code",
      "execution_count": null,
      "metadata": {
        "id": "xyC9zolEZNRQ"
      },
      "outputs": [],
      "source": [
        "# Correlation Heatmap visualization code\n",
        "# corr() : It returns correlation.\n",
        "# describe (): It returns number of entries, average of entries, outlier values, standart deviation, minimum and maximum entry.\n",
        "main_data_1.corr()"
      ]
    },
    {
      "cell_type": "code",
      "execution_count": null,
      "metadata": {
        "id": "kY0PTrD51bF0"
      },
      "outputs": [],
      "source": [
        "#correlation map\n",
        "f,ax = plt.subplots(figsize=(6, 6))\n",
        "sns.heatmap(main_data_1.corr(), annot=True, linewidths=.5, fmt= '.1f',ax=ax)\n",
        "plt.show()"
      ]
    },
    {
      "cell_type": "markdown",
      "metadata": {
        "id": "UV0SzAkaZNRQ"
      },
      "source": [
        "##### 1. Why did you pick the specific chart?"
      ]
    },
    {
      "cell_type": "markdown",
      "metadata": {
        "id": "DVPuT8LYZNRQ"
      },
      "source": [
        "Answer Here."
      ]
    },
    {
      "cell_type": "markdown",
      "metadata": {
        "id": "YPEH6qLeZNRQ"
      },
      "source": [
        "##### 2. What is/are the insight(s) found from the chart?"
      ]
    },
    {
      "cell_type": "markdown",
      "metadata": {
        "id": "bfSqtnDqZNRR"
      },
      "source": [
        "Answer Here"
      ]
    },
    {
      "cell_type": "markdown",
      "metadata": {
        "id": "q29F0dvdveiT"
      },
      "source": [
        "#### Chart - 15 - Pair Plot"
      ]
    },
    {
      "cell_type": "code",
      "execution_count": null,
      "metadata": {
        "id": "o58-TEIhveiU"
      },
      "outputs": [],
      "source": [
        "# Pair Plot visualization code\n"
      ]
    },
    {
      "cell_type": "markdown",
      "metadata": {
        "id": "EXh0U9oCveiU"
      },
      "source": [
        "##### 1. Why did you pick the specific chart?"
      ]
    },
    {
      "cell_type": "markdown",
      "metadata": {
        "id": "eMmPjTByveiU"
      },
      "source": [
        "Answer Here."
      ]
    },
    {
      "cell_type": "markdown",
      "metadata": {
        "id": "22aHeOlLveiV"
      },
      "source": [
        "##### 2. What is/are the insight(s) found from the chart?"
      ]
    },
    {
      "cell_type": "markdown",
      "metadata": {
        "id": "uPQ8RGwHveiV"
      },
      "source": [
        "Answer Here"
      ]
    },
    {
      "cell_type": "markdown",
      "metadata": {
        "id": "JcMwzZxoAimU"
      },
      "source": [
        "## **5. Solution to Business Objective**"
      ]
    },
    {
      "cell_type": "markdown",
      "metadata": {
        "id": "8G2x9gOozGDZ"
      },
      "source": [
        "#### What do you suggest the client to achieve Business Objective ?\n",
        "Explain Briefly."
      ]
    },
    {
      "cell_type": "markdown",
      "metadata": {
        "id": "pASKb0qOza21"
      },
      "source": [
        "Answer Here."
      ]
    },
    {
      "cell_type": "markdown",
      "metadata": {
        "id": "gCX9965dhzqZ"
      },
      "source": [
        "# **Conclusion**"
      ]
    },
    {
      "cell_type": "markdown",
      "metadata": {
        "id": "Fjb1IsQkh3yE"
      },
      "source": [
        "Write the conclusion here."
      ]
    },
    {
      "cell_type": "markdown",
      "metadata": {
        "id": "gIfDvo9L0UH2"
      },
      "source": [
        "### ***Hurrah! You have successfully completed your EDA Capstone Project !!!***"
      ]
    },
    {
      "cell_type": "code",
      "source": [],
      "metadata": {
        "id": "tRcvSEZWkt_w"
      },
      "execution_count": null,
      "outputs": []
    }
  ],
  "metadata": {
    "colab": {
      "provenance": [],
      "collapsed_sections": [
        "dauF4eBmngu3"
      ],
      "include_colab_link": true
    },
    "gpuClass": "standard",
    "kernelspec": {
      "display_name": "Python 3",
      "name": "python3"
    },
    "language_info": {
      "name": "python"
    }
  },
  "nbformat": 4,
  "nbformat_minor": 0
}